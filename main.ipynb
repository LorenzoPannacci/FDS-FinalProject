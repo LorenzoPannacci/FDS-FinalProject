{
 "cells": [
  {
   "cell_type": "markdown",
   "metadata": {},
   "source": [
    "**Notebook authors:**\n",
    "* Rebecca Conti 1896168\n",
    "* Jacopo Orsini 2099929\n",
    "* Antonella Mei 1887894\n",
    "* Lorenzo Pannacci 1948926\n",
    "\n",
    "**Work distribution:**\n",
    "* Data cleaning: Rebecca\n",
    "* Statistical features extraction: Jacopo\n",
    "* TF-IDF features extraction: Antonella\n",
    "* Per-Character features extraction: Lorenzo\n",
    "* Decision tree models: Rebecca\n",
    "* Logistic regression models: Jacopo\n",
    "* k-NN models: Antonella\n",
    "* Neural Networks models: Lorenzo"
   ]
  },
  {
   "cell_type": "markdown",
   "metadata": {},
   "source": [
    "# Setup"
   ]
  },
  {
   "cell_type": "code",
   "execution_count": 1,
   "metadata": {},
   "outputs": [],
   "source": [
    "# general\n",
    "import pandas as pd\n",
    "import numpy as np\n",
    "import matplotlib.pyplot as plt\n",
    "import seaborn as sns\n",
    "from tqdm.notebook import tqdm\n",
    "import csv\n",
    "import math\n",
    "import re\n",
    "\n",
    "# feature extraction\n",
    "from sklearn.feature_extraction import DictVectorizer\n",
    "from sklearn.feature_extraction.text import TfidfVectorizer\n",
    "\n",
    "# models\n",
    "from sklearn.model_selection import GridSearchCV, PredefinedSplit\n",
    "from sklearn.neighbors import KNeighborsClassifier\n",
    "from sklearn.neural_network import MLPClassifier\n",
    "from sklearn.linear_model import LogisticRegression\n",
    "from sklearn.tree import DecisionTreeClassifier\n",
    "\n",
    "# performance analysis\n",
    "from sklearn.model_selection import train_test_split, GridSearchCV\n",
    "from sklearn.metrics import accuracy_score, precision_score, recall_score, confusion_matrix, classification_report"
   ]
  },
  {
   "cell_type": "code",
   "execution_count": 2,
   "metadata": {},
   "outputs": [],
   "source": [
    "filepath = r\"data.csv\""
   ]
  },
  {
   "cell_type": "markdown",
   "metadata": {},
   "source": [
    "# Data cleaning"
   ]
  },
  {
   "cell_type": "markdown",
   "metadata": {},
   "source": [
    "---\n",
    "\n",
    "While reading our dataset, we encountered some issues due to a mismatch in the number of columns, so we decided to output the row number and its content to determine our next steps, whether we needed to eliminate them or if we could retain them with some modifications.\n",
    "\n",
    "\n",
    "---"
   ]
  },
  {
   "cell_type": "code",
   "execution_count": 3,
   "metadata": {},
   "outputs": [
    {
     "name": "stdout",
     "output_type": "stream",
     "text": [
      "Issue with line 2810: ['selim', 'selim_syl1905@hotmail.com', '88.230.79.161', 'Poftya123', '2']\n",
      "Issue with line 4641: ['Selim', 'delioreanxs@hotmail.com', '85.97.14.203', 'selim123456', '2']\n",
      "Issue with line 7171: ['Selim', 'mt2gurur@hotmail.com', '88.227.187.9', 'benerkin98', '2']\n",
      "Issue with line 11220: ['Selim', 'facebookselim4@hotmail.com', '94.123.218.111', '4938863a', '2']\n",
      "Issue with line 13809: ['selim', 'anakonda_252@hotmail.com', '85.110.117.124', '4560458sg', '2']\n",
      "Issue with line 14132: ['selim', 'mamedov.kenan@mail.ru', '93.184.224.230', '1449a1449a', '2']\n",
      "Issue with line 14293: ['Selim', 'destek@migmedya.com', '94.122.28.186', 'sanane05', '2']\n",
      "Issue with line 14865: ['selim', 'elitebank44@gmail.com', '78.180.132.32', 'selim123', '2']\n",
      "Issue with line 17419: ['selim', 'memleketim.info@gmail.com', '78.183.49.245', 'salih5134', '2']\n",
      "Issue with line 22801: ['selim', 'canersastim@gmail.com', '78.160.123.7', 'tc1416', '2']\n",
      "Issue with line 25001: ['selim', 'arifselim.ask@gmail.com', '37.155.15.242', '860ask252', '2']\n",
      "Issue with line 26603: ['selim', 'octoberwind@mynet.com', '94.54.174.102', '123456789-sd', '2']\n",
      "Issue with line 26742: ['selim', 'sado_370@hotmail.com', '85.97.127.27', '4ymYz1zIyMg5JVVg', '2']\n",
      "Issue with line 29702: ['Selim', 'djexploit@gmail.com', '62.108.11.107', 'domheid1', '2']\n",
      "Issue with line 32767: ['selim', 'bursabursa2@hotmail.com', '46.1.125.89', '5774142a', '2']\n",
      "Issue with line 32878: ['selim', 'info@kayimoglu.com', '88.244.220.167', 'derfer860', '2']\n",
      "Issue with line 35643: ['selim', 'drselimcelik@gmail.com', '78.169.139.55', 'forek7433', '2']\n",
      "Issue with line 36550: ['selim', 'bykudelfa@hotmail.com', '88.236.34.249', 'selim123', '2']\n",
      "Issue with line 38732: ['selim', 'kralkotsk@mynet.com', '78.178.52.90', 'selim1', '2']\n",
      "Issue with line 40567: ['selim', 'mnyk12@hotmail.com', '95.7.64.146', '8764452ha', '2']\n",
      "Issue with line 40576: ['selim', 'elitebilgisayar26@gmail.com', '78.163.30.233', '26seckindilek', '2']\n",
      "Issue with line 41864: ['selim', 'elumre@gmail.com', '78.165.184.188', '43134278c', '2']\n",
      "Issue with line 46861: ['selim', 'selim.ozmen07@hotmail.com', '88.252.169.13', '332211selim', '2']\n",
      "Issue with line 47939: ['selim', 'selimkaratas@windowslive.com', '85.102.41.86', 'a1a2a3', '2']\n",
      "Issue with line 48628: ['selim', 'crazy_boeing@yahoo.com', '78.191.198.176', '5d5d5d5d', '2']\n",
      "Issue with line 48908: ['selim', 'imkbticaretmeslek@gmail.com', '88.229.69.130', 'qhase2008q', '2']\n",
      "Issue with line 57582: ['selim', 'mrcds.grmnt@yahoo.com', '122.99.103.174', 'selim888992', '2']\n",
      "Issue with line 58782: ['selim', 'mert_kaya09@hotmail.com', '95.14.238.67', 'selim1996', '2']\n",
      "Issue with line 58984: ['selim', 'beratmisimi1@gmail.com', '46.217.174.24', 'selimibraimi1', '2']\n",
      "Issue with line 61518: ['selim', 'cousto@live.com', '41.224.143.99', '22186517a', '2']\n",
      "Issue with line 63451: ['Selim', 'boystreet04@gmail.com', '84.20.89.139', 'lekefemra1', '2']\n",
      "Issue with line 68141: ['Selim', 'hackerbbqueen15@hotmail.com', '88.252.175.192', '123456789', '2']\n",
      "Issue with line 72083: ['selim', 'brkyc3@hotmail.com', '78.163.82.202', '12345600m', '2']\n",
      "Issue with line 74027: ['selim', 'bursa322@hotmail.com', '46.1.125.89', '5774142a', '2']\n",
      "Issue with line 77811: ['Selim', 'selimcebecioglu@gmail.com', '78.176.105.13', '76617087a', '2']\n",
      "Issue with line 83958: ['Selim', 'ooyrwdiovouxa@hotmail.com', '190.135.138.198', '665Ajuy75978', '2']\n",
      "Issue with line 85295: ['Selim', 'antit0xin@hotmail.com', '78.184.204.21', 'BQIsOyDA3NgY1Df3', '2']\n",
      "Issue with line 88665: ['Selim', 'kaderimse.net@hotmail.com', '85.105.246.139', 'Rr6UAaDgzNQlfMfX', '2']\n",
      "Issue with line 89198: ['Selim', 'cnraktas@hotmail.com', '78.164.107.56', 'ASD123456', '2']\n",
      "Issue with line 92499: ['selim', 'kerem_3435@hotmail.com', '85.98.198.30', 'selimcan24', '2']\n",
      "Issue with line 92751: ['Selim', 'selim2@live.nl', '213.46.78.18', 'selim123456', '2']\n",
      "Issue with line 93689: ['Selim', 'selimakyol000@hotmail.com', '85.96.73.93', 'BAHARselim1307', '2']\n",
      "Issue with line 94776: ['selim', 'selimiu14@gmail.com', '119.30.47.208', '38948901718gp', '2']\n",
      "Issue with line 97334: ['Selim', 'selimest1@yahoo.fr', '41.224.167.53', 'selouma1', '2']\n",
      "Issue with line 102316: ['Selim', 'sd66@live.com', '41.130.6.16', 'bw2361437', '2']\n",
      "Issue with line 103421: ['selim', 'bykudelfa@windowslive.com', '88.236.38.142', 'selim123', '2']\n",
      "Issue with line 106872: ['Selim', 'mogol_1994@hotmail.com', '78.179.153.240', '3371984+', '2']\n",
      "Issue with line 109363: ['Selim', 'ayakseven@gmail.com', '88.242.136.227', 'x695847x', '2']\n",
      "Issue with line 110117: ['selim', 'selimiii91@googlemail.com', '78.189.19.97', '88552288ysk', '2']\n",
      "Issue with line 110465: ['selim', 'asassa.asdsadsads@mail.ru', '192.162.213.203', '13631363sel', '2']\n",
      "Issue with line 113843: ['selim', 'byscg@live.com', '94.55.23.187', 'byscg250', '2']\n",
      "Issue with line 115634: ['selim', 'igoubane@gmail.com', '105.109.204.195', '3LovAlzE1OA5DWOr', '2']\n",
      "Issue with line 121518: ['selim', 'kudigaf-59@hotmail.com', '88.251.168.192', 'a1a1a1', '2']\n",
      "Issue with line 123692: ['Selim', 'okanfidan.5@hotmail.com', '78.188.173.250', '00198300asd', '2']\n",
      "Issue with line 124708: ['selim', 'cs.bossy@hotmail.com', '78.183.219.97', 'selim123', '2']\n",
      "Issue with line 129608: ['selim', 'gavur55@gmail.com', '88.247.16.69', 'gavur55', '2']\n",
      "Issue with line 133176: ['selim', 'ckrguzel61@hotmail.com', '88.225.30.25', 'sel&#305;msel&#305;m', '2']\n",
      "Issue with line 135532: ['selim', 'emre_talha_erim@hotmail.com', '212.253.238.66', 'pikemen9395', '2']\n",
      "Issue with line 138042: ['Selim', 'fatal09@live.de', '84.164.109.120', 'gaucho111', '2']\n",
      "Issue with line 139485: ['Selim', 'selim93dz@gmail.com', '41.105.100.84', 'leclebes33', '2']\n",
      "Issue with line 140401: ['Selim', 'aspiranko@gmail.com', '88.226.24.117', '73546efe', '2']\n",
      "Issue with line 144093: ['Selim', 'manisagfb@windowslive.com', '195.174.249.57', '2332839s', '2']\n",
      "Issue with line 149850: ['selim', 'freezoneworld@gmail.com', '197.6.168.62', 'selim2014', '2']\n",
      "Issue with line 151831: ['selim', 'dakikaoyun1@hotmail.com', '85.100.72.224', 'selimcabas01', '2']\n",
      "Issue with line 158014: ['selim', 'aselimulkatan@windowslive.com', '78.181.242.196', '123698745selim', '2']\n",
      "Issue with line 162047: ['Selim', 'platonik.ask1@hotmail.com.tr', '78.175.189.76', 'selimbaba38', '2']\n",
      "Issue with line 164515: ['Selim', 'bio-nick@hotmail.com', '78.173.209.193', 'bH3LIJjcxNQIxm2e', '2']\n",
      "Issue with line 170313: ['selim', 'samyeli25@mynet.com', '94.122.69.165', 'qweasd00', '2']\n",
      "Issue with line 171325: ['selim', 'selim.samli1@hotmail.com.tr', '78.181.162.223', 'selimbaba38', '2']\n",
      "Issue with line 171424: ['selim', 'kuyucu_selim@hotmail.com', '85.106.99.95', '123456selim', '2']\n",
      "Issue with line 175920: ['selim', 'mesajticaret@hotmail.com', '188.58.120.238', 'toshiba2010', '2']\n",
      "Issue with line 176210: ['selim', 'cristiano_juega_10@hotmail.com', '187.146.144.147', 'selim82465978', '2']\n",
      "Issue with line 183603: ['Selim', 'auetetee@narod.ru', '62.70.2.252', 'NJ1y2uPz53160', '2']\n",
      "Issue with line 190264: ['selim', 'haylaz_1453@hotmail.com', '81.213.175.141', 'h4yl4z1453', '2']\n",
      "Issue with line 191683: ['selim', 'selim_tek1@hotmail.com', '85.106.159.125', '123fsk', '2']\n",
      "Issue with line 191988: ['selim', 'kralaidcop@gmail.com', '78.167.174.48', 'a1a2a3', '2']\n",
      "Issue with line 195450: ['Selim', 'melchazli@gmail.com', '41.178.249.230', 'karowano007', '2']\n",
      "Issue with line 195754: ['Selim', 'metaren@yandex.com', '85.97.189.54', 'M17101710', '2']\n",
      "Issue with line 197124: ['Selim', 'axiselo@hotmail.com', '80.109.133.223', 'selim112233', '2']\n",
      "Issue with line 199263: ['selim', 'jakuzen.57@hotmail.com', '193.255.190.247', 'selim120998915', '2']\n",
      "Issue with line 202603: ['Selim', 'by.social@hotmail.com', '176.41.239.196', '123456789.1', '2']\n",
      "Issue with line 209960: ['selim', 'selimjel@icloud.com', '80.200.79.253', 'selim02102001', '2']\n",
      "Issue with line 213218: ['selim', 'escortcu34@gmail.com', '88.246.27.156', 'selim951*', '2']\n",
      "Issue with line 217060: ['selim', 'iletisim@selimaltin.com', '83.66.120.96', 'Altin6453', '2']\n",
      "Issue with line 220121: ['selim', 'demir_06_68@hotmail.com', '88.254.49.233', 'sellim0909', '2']\n",
      "Issue with line 223518: ['Selim', 'bychatlak_66@hotmail.com', '78.172.167.98', 'selim34', '2']\n",
      "Issue with line 226293: ['selim', 'selim1@live.be', '81.83.11.36', '1bismillah', '2']\n",
      "Issue with line 227035: ['selim', 'dyinglast@outlook.com', '178.245.148.154', 'k4nguru..', '', 'r17', '2']\n",
      "Issue with line 227341: ['selim', 'korhaydut_38@hotmail.com', '78.168.71.109', 'mehmet1', '2']\n",
      "Issue with line 227808: ['selim', 'mt2_shorty@hotmail.com', '78.179.212.40', 'selim123654', '2']\n",
      "Issue with line 228516: ['selim', 'bykudelfa2@hotmail.com', '88.236.34.249', 'selim123', '2']\n",
      "Issue with line 228733: ['selim', 'contemp99@gmail.com', '92.245.119.108', 'contempt99', '2']\n",
      "Issue with line 232043: ['selim', 'mehmeteminyakit@tnctr.com', '88.226.219.214', 'asd15498512', '2']\n",
      "Issue with line 232426: ['Selim', 'sakaryam5454@yandex.com.tr', '149.140.145.137', '197346852s', '2']\n",
      "Issue with line 234490: ['Selim', 'boskartus@hotmail.com', '81.213.71.229', 'ankara06', '2']\n",
      "Issue with line 239626: ['selim', 'dumanselim52@gmail.com', '78.169.47.158', '12345asd', '2']\n",
      "Issue with line 240461: ['selim', 'selimmsn@msn.com', '81.213.55.222', 's4348111443', '2']\n",
      "Issue with line 244518: ['Selim', 'derko_42@hotmail.com', '78.161.83.32', 'imparator42', '2']\n",
      "Issue with line 245395: ['selim', 'selimb300@gmail.com', '41.224.126.235', 'Seloumaest1', '2']\n",
      "Issue with line 246168: ['selim', 'selimakyuz@gmail.com', '78.190.81.81', 'edirne22y', '2']\n",
      "Issue with line 246655: ['selim', 'selimaliqkaj5@gmail.com', '46.99.134.214', 'selimaliqkaj123', '2']\n",
      "Issue with line 246752: ['selim', 'karsidag@hotmail.com', '85.103.196.159', 'nazlimo1989', '2']\n",
      "Issue with line 247189: ['selim', 'cellymmm@hotmail.com', '88.240.32.207', 'jhv5zzns', '2']\n",
      "Issue with line 250276: ['Selim', 'selim199@abv.bg', '95.43.68.222', '3332199s', '2']\n",
      "Issue with line 255327: ['selim', 'brain_storm_92@hotmail.com', '78.161.46.51', 'tektabanca12', '2']\n",
      "Issue with line 257094: ['selim', 'groteselim@msn.com', '81.241.87.192', 'bouliboum1', '2']\n",
      "Issue with line 264626: ['selim', 'avci.selim@gmail.com', '91.199.73.2', '159357/selim', '2']\n",
      "Issue with line 265028: ['selim', 'genc_fb.56@hotmail.com', '85.97.162.237', 'selim743', '2']\n",
      "Issue with line 269150: ['selim', 'gencosman_2006@hotmail.com', '88.243.105.90', 'osman1207', '2']\n",
      "Issue with line 271360: ['Selim', 'hackershift@gmail.com', '94.120.239.240', '249ozay!', '2']\n",
      "Issue with line 273975: ['selim', 'begum_akdogan_33@hotmail.com', '108.59.8.210', 's123654789', '2']\n",
      "Issue with line 274742: ['selim', 'eskortcu@hotmail.com', '88.230.183.96', '6q8lo9ooz', '2']\n",
      "Issue with line 276227: ['selim', 'selim.chergui@hotmail.com', '41.225.82.50', 'selim1989', '2']\n",
      "Issue with line 279807: ['Selim', 'odmosegtnss@ovi.com', '186.104.182.105', 'Be6HbD125044', '2']\n",
      "Issue with line 283425: ['Selim', 'alpha_omeg@rocketmail.com', '78.251.125.67', '4everd4everd', '2']\n",
      "Issue with line 287468: ['selim', 'derdan0707@gmail.com', '88.229.51.198', 'selim.4512', '2']\n",
      "Issue with line 292995: ['selim', 's.selimerdem@hotmail.com', '65.49.14.162', 'qhase2008q', '2']\n",
      "Issue with line 293496: ['selim', 'atac.selim@gmail.com', '212.175.132.126', 'zJODLaDA5OAhTHQK', '2']\n",
      "Issue with line 293735: ['selim', 'keepifreal@hotmail.com', '88.238.36.185', 'selim6279', '2']\n",
      "Issue with line 295060: ['Selim', 'deren8120012@hotmail.com', '91.93.210.148', '15611861278s', '2']\n",
      "Issue with line 296643: ['selim', 'iletisim@oderece.net', '95.10.53.61', 'selim456123', '2']\n",
      "Issue with line 296848: ['selim', 'carizma_cocuk1987@hotmail.com', '95.8.86.105', 'zM1987NW', '2']\n",
      "Issue with line 308926: ['selim', 'bursabursa123321@hotmail.com', '46.1.125.232', '5774142a', '2']\n",
      "Issue with line 310360: ['Selim', 'remselim@gmail.com', '176.41.66.211', 'kaosemre41', '2']\n",
      "Issue with line 317004: ['selim', 'dummandumman@hotmail.com', '78.161.224.173', '2586000w', '2']\n",
      "Issue with line 318207: ['selim', 'ezgikutlu_06@hotmail.com', '78.167.98.187', 'game123', '2']\n",
      "Issue with line 331783: ['selim', 'sahinemlak59@gmail.com', '', '123456a', '2']\n",
      "Issue with line 333864: ['selim', 'selim_cz@hotmail.com', '85.118.193.162', 'selim123', '2']\n",
      "Issue with line 335958: ['selim', 'selimkirazliogli@hotmail.com', '85.100.41.204', '05392539135s', '2']\n",
      "Issue with line 336290: ['Selim', 'csprosunucum@hotmail.com', '88.233.10.44', 'z7crzh6t7d', '2']\n",
      "Issue with line 343526: ['selim', 'lostlover662@gmail.com', '119.30.47.138', '01737474889s', '2']\n",
      "Issue with line 343857: ['selim', 'my.dimpls@hotmail.com', '95.10.96.65', 'selim12', '2']\n",
      "Issue with line 344059: ['selim', 'kikushi@live.com', '80.80.173.66', 'askoti1', '2']\n",
      "Issue with line 348691: ['selim', 'hi.selimreza@gmail.com', '122.163.49.113', 'OBCtRxTg3NgvnKVw', '2']\n",
      "Issue with line 353446: ['selim', 'psiko_child@hotmail.com', '78.175.27.30', '397165selim', '2']\n",
      "Issue with line 357073: ['Selim', 'limmy007@live.com', '46.19.224.234', 'zona-b93..7', '2']\n",
      "Issue with line 359753: ['selim', 'kalkal223@hotmail.com', '46.1.210.175', '5774142a', '2']\n",
      "Issue with line 359974: ['Selim', 'sametselim44@gmail.com', '95.9.100.222', 'malatya44', '2']\n",
      "Issue with line 366534: ['selim', 'sel34443@gmail.com', '', 'selo7934', '2']\n",
      "Issue with line 369514: ['selim', 'durdedimulen@hotmail.com', '85.104.140.146', 'selim4556', '2']\n",
      "Issue with line 377759: ['Selim', 'hackershift@live.com', '94.121.76.111', '24932424932Ozay', '2']\n",
      "Issue with line 379327: ['selim', 'komofti34@gmail.com', '95.8.131.120', 'Sananebeslq1', '2']\n",
      "Issue with line 380769: ['Selim', 'by_firari_019@hotmail.com', '78.166.49.5', 'qwer1234', '2']\n",
      "Issue with line 381073: ['selim', 'johirali08@gmail.com', '119.30.45.243', 'SXxliu_24mU54n', '2']\n",
      "Issue with line 381489: ['selim', 'real_crayz@hotmail.com', '78.160.119.40', 'tc1416', '2']\n",
      "Issue with line 386304: ['Selim', 'buzzy_speaker@hotmail.com', '88.240.217.54', 'selimbjk12', '2']\n",
      "Issue with line 387635: ['selim', 'ice.nova@hotmail.com', '213.248.152.93', 'af2007af', '2']\n",
      "Issue with line 389613: ['selim', 'karaselim.colakoglu@gmail.com', '88.242.115.216', '1chl1bed1ch', '2']\n",
      "Issue with line 392604: ['selim', 'gs_li_selo@hotmail.com', '195.174.2.238', 'sello123', '2']\n",
      "Issue with line 393184: ['selim', 'selimgabsi@yahoo.fr', '41.230.231.89', 'meriel1S', '2']\n",
      "Issue with line 395530: ['Selim', 'free.gta5@gmail.com', '31.15.186.19', 'killerworm31', '2']\n",
      "Issue with line 396939: ['selim', 'selimgs@mynet.com', '88.254.49.233', 'sellim0909', '2']\n",
      "Issue with line 397385: ['selim', 'bursa223@hotmail.com', '46.1.125.89', '5774142a', '2']\n",
      "Issue with line 397509: ['Selim', 'ftp42@gmx.net', '84.164.96.37', 'gaga12345', '2']\n",
      "Issue with line 402902: ['selim', 'hayat.yalan.beimgibi@hotmail.com', '78.181.87.212', 'ultmlt017259', '2']\n",
      "Issue with line 405187: ['selim', 'selim.cancan1@hotmail.com', '78.182.107.184', 'selimbaba38', '2']\n",
      "Issue with line 408412: ['selim', 'basogluselim@yahoo.com', '78.178.230.229', 'cd3467b1', '2']\n",
      "Issue with line 419423: ['selim', 'contempt99@gmail.com', '109.201.178.219', 'contempt99', '2']\n",
      "Issue with line 420962: ['selim', 'expro_sc@hotmail.com', '77.238.200.246', 'nur2009', '2']\n",
      "Issue with line 425965: ['selim', 'selimdamar63@gmail.com', '78.170.144.105', 'sanliurfa63', '2']\n",
      "Issue with line 427496: ['selim', 'developpeurwebsite@gmail.com', '197.6.52.209', 'selim2014', '2']\n",
      "Issue with line 438881: ['Selim', 'selim.samli038@hotmail.com', '78.181.166.95', 'selimbaba38', '2']\n",
      "Issue with line 439776: ['selim', 'kaankarayel_2012@hotmail.com', '95.7.165.115', 'karizma3302', '2']\n",
      "Issue with line 440345: ['Selim', 'redcap12@yahoo.com', '69.142.2.139', 'olamide123', '2']\n",
      "Issue with line 445507: ['selim', 'faceboookinfo@gmail.com', '85.101.111.165', 'hbba201102', '2']\n",
      "Issue with line 445548: ['Selim', 'fatal08@live.de', '84.164.105.171', 'gaucho11', '2']\n",
      "Issue with line 447184: ['selim', 'demente_selim@hotmail.com', '212.175.115.82', 'selim1907selim', '2']\n",
      "Issue with line 448603: ['Selim', 's.k11@laposte.net', '90.48.63.99', 'azerty11', '2']\n",
      "Issue with line 451732: ['selim', 'selimcebesoy@gmail.com', '78.174.165.117', 'apache19911994', '2']\n",
      "Issue with line 458249: ['Selim', 'selimkoylahisarli@live.com', '85.102.232.44', 'fk878selim', '2']\n",
      "Issue with line 460274: ['selim', 'selimkahya@gmail.com', '88.253.105.137', 'selim1', '2']\n",
      "Issue with line 467630: ['selim', 'byensel01@hotmail.com', '85.100.80.50', 'selimcabas01', '2']\n",
      "Issue with line 473961: ['selim', 'kanli007@hotmail.com', '88.247.58.219', '123456asdf', '2']\n",
      "Issue with line 476281: ['selim', 'enucuzdugun@hotmail.fr', '90.61.84.136', '17bitanem17', '2']\n",
      "Issue with line 478010: ['selim', 'beylikovajumla@mynet.com', '95.15.157.162', '123456789sd', '2']\n",
      "Issue with line 478322: ['selim', 'faakeadres123@hotmail.com', '85.97.21.69', 'selimasd123', '2']\n",
      "Issue with line 479999: ['selim', 'andarmastana@gmail.com', '77.77.53.227', '3kilabanani', '2']\n",
      "Issue with line 480898: ['selim', 'frozen2245@gmail.com', '83.163.163.60', 'ajaxamsterdam21', '2']\n",
      "Issue with line 481688: ['Selim', 'selim_samli1@hotmail.com', '78.181.164.211', 'selimbaba38', '2']\n",
      "Issue with line 485193: ['selim', 'facebookselim1@hotmail.com', '94.122.242.176', '4938863a', '2']\n",
      "Issue with line 485519: ['selim', 'mimou_939@hotmail.fr', '197.0.230.172', 'cccv 20572225', '2']\n",
      "Issue with line 486000: ['selim', 'elyomeric@hotmail.com', '78.180.87.139', 'semi121', '2']\n",
      "Issue with line 489063: ['Selim', 'facebookselim2@hotmail.com', '94.122.228.73', '4938863a', '2']\n",
      "Issue with line 494525: ['selim', 'haylaz_1997@hotmail.com', '81.213.175.141', 'h4yl4z1453', '2']\n",
      "Issue with line 495009: ['selim', 'ckrguzel61@hotmail.com', '88.225.30.25', 'selÄ±mselÄ±m', '2']\n",
      "Issue with line 501954: ['Selim', 'selim07_fenerium@hotmail.com', '95.15.214.198', 'kanarya472720', '2']\n",
      "Issue with line 508035: ['selim', 'korganradyo@hotmail.com', '78.172.159.130', 'asd123', '2']\n",
      "Issue with line 508828: ['selim', 'selim880@rambler.ru', '109.237.122.147', 'selim2', '2']\n",
      "Issue with line 509833: ['Selim', 'mhpboy@hotmail.com', '145.120.248.63', 'fenerium40', '2']\n",
      "Issue with line 510410: ['selim', 'byselm34@gmail.com', '88.225.105.162', '123456789', '2']\n",
      "Issue with line 518229: ['selim', 'kutlu514@hotmail.com', '85.110.104.129', 'selim9676439228', '2']\n",
      "Issue with line 520302: ['selim', 'gamesliga@hotmail.com', '85.110.25.29', '232323se', '2']\n",
      "Issue with line 520340: ['Selim', 'janssensselim@gmail.com', '78.23.220.112', 'selim1996', '2']\n",
      "Issue with line 525174: ['selim', 'benimsitem@yahoo.com', '212.253.143.26', 'meb349', '2']\n",
      "Issue with line 526251: ['Selim', 'esesanahtar@hotmail.com', '46.104.146.180', 'cilingir26', '2']\n",
      "Issue with line 529611: ['Selim', 'ikikeredusun@gmail.com', '85.100.99.252', '850655selim', '2']\n",
      "Issue with line 531398: ['Selim', 'metin2pvp69@hotmail.com', '78.184.120.104', 'yavuz69dede', '2']\n",
      "Issue with line 534146: ['selim', 'kartallimt2@hotmail.com', '78.179.104.209', 'pikemen9395', '2']\n",
      "Issue with line 544954: ['Selim', 'evinkirosu@hotmail.com', '81.214.28.248', 'IloveYouSniper22', '2']\n",
      "Issue with line 553002: ['Selim', 'besiktaskim@hotmail.com', '85.103.112.127', 'uvd0057565', '2']\n",
      "Issue with line 553883: ['selim', 'cybervadi@hotmail.co.uk', '78.167.165.27', 'as735285', '2']\n",
      "Issue with line 553887: ['selim', 'selim_sarikaya42@hotmail.com', '85.110.31.184', '43selim', '2']\n",
      "Issue with line 553915: ['selim', 'firar50@hotmail.com', '78.175.190.93', 'UohhaSDUxNwbDWpk', '2']\n",
      "Issue with line 554172: ['selim', 'cengiz_metin35@hotmail.com', '88.246.74.2', '123456789a', '2']\n",
      "Issue with line 563534: ['selim', 'balik_muhammedali665@hotmail.com', '85.103.9.158', '199277@', '2']\n",
      "Issue with line 565191: ['selim', 'codeslm.dark@yahoo.com', '78.191.145.163', 'selim123456', '2']\n",
      "Issue with line 574108: ['Selim', 'anime.evi@hotmail.com', '78.172.21.114', 'welix11111', '2']\n",
      "Issue with line 574412: ['selim', 'kartanesi.selim@gmail.com', '78.179.104.209', 'pikemen9395', '2']\n",
      "Issue with line 575985: ['selim', 'eskisehirsite@mynet.com', '94.54.154.24', '26seckin', '2']\n",
      "Issue with line 580091: ['selim', 'bilgisayarbilisimonline@mynet.com', '78.160.231.88', '123456789sd', '2']\n",
      "Issue with line 582682: ['selim', 'antifb@gmail.com', '78.171.132.8', 'selim152', '2']\n",
      "Issue with line 585885: ['Selim', 'barborosselim@gmail.com', '88.231.109.100', 'f50rft', '2']\n",
      "Issue with line 590171: ['selim', 'selimkuyucu1@hotmail.com', '85.106.127.104', '123456selim', '2']\n",
      "Issue with line 591924: ['Selim', 'ibrahimsakhta1@gmail.com', '65.49.14.159', 'desertforce123', '2']\n",
      "Issue with line 592515: ['selim', 'igoubane@gmail.com', '105.109.204.195', '92lBxDDEzOQ9ugfM', '2']\n",
      "Issue with line 593888: ['selim', 'selimdg@hotmail.com', '88.230.79.161', 'Poftya123', '2']\n",
      "Issue with line 596245: ['Selim', 'selimerdogan29@gmail.com', '78.183.27.179', '12345?', '2']\n",
      "Issue with line 607344: ['selim', 'hasel_4458@hotmail.com', '88.229.87.41', 'qhase2008q', '2']\n",
      "Issue with line 607633: ['selim', 'black_line63@hotmail.com', '', 'selim1980selim', '2']\n",
      "Issue with line 610939: ['SeLiM', 'delibeyazim_18@hotmail.com', '88.252.107.167', '25ask25', '2']\n",
      "Issue with line 613638: ['Selim', 'armin_lokvancic@hotmail.com', '92.36.209.97', 'Arminl1', '2']\n",
      "Issue with line 615643: ['Selim', 'selimmsenturkk@hotmail.com', '176.41.239.196', '123456789.1', '2']\n",
      "Issue with line 615901: ['selim', 'hacsel.erdem@gmail.com', '194.27.6.86', 'qhase2008q', '2']\n",
      "Issue with line 617389: ['selim', 'dj_gezegen_90@hotmail.com', '31.200.52.26', 'qwe123asd', '2']\n",
      "Issue with line 634641: ['selim', 'komofti34@gmail.com', '95.8.131.120', 'wKyExsTA3MwdInrl', '2']\n",
      "Issue with line 635755: ['Selim', 'msinan2008@hotmail.de', '79.254.51.234', 'muhammed1', '2']\n",
      "Issue with line 646243: ['selim', 'selim_sari@hotmail.com', '88.225.30.221', '1447879a', '2']\n",
      "Issue with line 647165: ['selim', 'karamsar_87@yahoo.com', '88.252.98.118', 'muco1453', '2']\n",
      "Issue with line 648610: ['selim', 'seckinsitesi@mynet.com', '78.163.30.233', '26seckindilek', '2']\n",
      "Issue with line 648772: ['selim', 'kralrock@msn.com', '88.246.182.194', 'selim123', '2']\n",
      "Issue with line 651833: ['Selim', 'pokemon924@live.com', '76.228.192.241', 'Mh880112', '2']\n",
      "Issue with line 653663: ['selim', 'selim_mir@hotmail.com', '88.251.59.165', 'selim*1905', '2']\n",
      "Issue with line 656233: ['selim', 'bgselim1993@gmail.com', '88.236.49.29', '627619as', '2']\n",
      "Issue with line 656694: ['selim', 'info@live35.net', '78.172.19.10', 'Qtrt2009', '2']\n",
      "Issue with line 659783: ['Selim', 'cimbom_cadde@hotmail.com', '212.253.60.7', '05452121041s', '2']\n",
      "Issue with line 660478: ['Selim', 'hajriz.balkansunflowers@gmail.com', '87.238.209.50', 'selimi99', '2']\n",
      "Issue with line 661133: ['selim', 'f4rr3ll26@gmail.com', '78.165.183.171', '43134278em', '2']\n",
      "Issue with line 661736: ['Selim', 'deltoiddesign@hotmail.com', '95.8.199.49', 'selim297@', '2']\n",
      "Issue with line 669827: ['selim', 'efsane.mardinli@gmail.com', '78.171.11.53', 'selim12347', '2']\n"
     ]
    }
   ],
   "source": [
    "with open(filepath, newline='', encoding='utf-8') as csvfile:\n",
    "    reader = csv.reader(csvfile)\n",
    "    data = []\n",
    "    for row in reader:\n",
    "        if len(row) == 2:  # we expect 2 fields per line\n",
    "            data.append(row)\n",
    "        else:\n",
    "            print(f\"Issue with line {reader.line_num}: {row}\")"
   ]
  },
  {
   "cell_type": "markdown",
   "metadata": {},
   "source": [
    "---\n",
    "\n",
    "We utilized the `csv` library to process the dataset, eliminating superfluous columns. This was necessary as we observed that numerous rows included additional information such as name, email, and IP address, beyond the password and strength data we were interested in. We then created a new dataset, `cleaned_data`, into which we incorporated the accurate data. We also corrected the header, which was initially misread due to the varying number of columns in different rows. Specifically, while the first two columns had the headers we required, rows with more than two columns had different headers.\n",
    "\n",
    "---"
   ]
  },
  {
   "cell_type": "code",
   "execution_count": 4,
   "metadata": {},
   "outputs": [
    {
     "data": {
      "text/html": [
       "<div>\n",
       "<style scoped>\n",
       "    .dataframe tbody tr th:only-of-type {\n",
       "        vertical-align: middle;\n",
       "    }\n",
       "\n",
       "    .dataframe tbody tr th {\n",
       "        vertical-align: top;\n",
       "    }\n",
       "\n",
       "    .dataframe thead th {\n",
       "        text-align: right;\n",
       "    }\n",
       "</style>\n",
       "<table border=\"1\" class=\"dataframe\">\n",
       "  <thead>\n",
       "    <tr style=\"text-align: right;\">\n",
       "      <th></th>\n",
       "      <th>Password</th>\n",
       "      <th>Strength</th>\n",
       "    </tr>\n",
       "  </thead>\n",
       "  <tbody>\n",
       "    <tr>\n",
       "      <th>0</th>\n",
       "      <td>kzde5577</td>\n",
       "      <td>1</td>\n",
       "    </tr>\n",
       "    <tr>\n",
       "      <th>1</th>\n",
       "      <td>kino3434</td>\n",
       "      <td>1</td>\n",
       "    </tr>\n",
       "    <tr>\n",
       "      <th>2</th>\n",
       "      <td>visi7k1yr</td>\n",
       "      <td>1</td>\n",
       "    </tr>\n",
       "    <tr>\n",
       "      <th>3</th>\n",
       "      <td>megzy123</td>\n",
       "      <td>1</td>\n",
       "    </tr>\n",
       "    <tr>\n",
       "      <th>4</th>\n",
       "      <td>lamborghin1</td>\n",
       "      <td>1</td>\n",
       "    </tr>\n",
       "    <tr>\n",
       "      <th>...</th>\n",
       "      <td>...</td>\n",
       "      <td>...</td>\n",
       "    </tr>\n",
       "    <tr>\n",
       "      <th>669836</th>\n",
       "      <td>10redtux10</td>\n",
       "      <td>1</td>\n",
       "    </tr>\n",
       "    <tr>\n",
       "      <th>669837</th>\n",
       "      <td>infrared1</td>\n",
       "      <td>1</td>\n",
       "    </tr>\n",
       "    <tr>\n",
       "      <th>669838</th>\n",
       "      <td>184520socram</td>\n",
       "      <td>1</td>\n",
       "    </tr>\n",
       "    <tr>\n",
       "      <th>669839</th>\n",
       "      <td>marken22a</td>\n",
       "      <td>1</td>\n",
       "    </tr>\n",
       "    <tr>\n",
       "      <th>669840</th>\n",
       "      <td>fxx4pw4g</td>\n",
       "      <td>1</td>\n",
       "    </tr>\n",
       "  </tbody>\n",
       "</table>\n",
       "<p>669841 rows × 2 columns</p>\n",
       "</div>"
      ],
      "text/plain": [
       "            Password Strength\n",
       "0           kzde5577        1\n",
       "1           kino3434        1\n",
       "2          visi7k1yr        1\n",
       "3           megzy123        1\n",
       "4        lamborghin1        1\n",
       "...              ...      ...\n",
       "669836    10redtux10        1\n",
       "669837     infrared1        1\n",
       "669838  184520socram        1\n",
       "669839     marken22a        1\n",
       "669840      fxx4pw4g        1\n",
       "\n",
       "[669841 rows x 2 columns]"
      ]
     },
     "execution_count": 4,
     "metadata": {},
     "output_type": "execute_result"
    }
   ],
   "source": [
    "df = []\n",
    "\n",
    "with open(filepath, newline='', encoding='utf-8') as csvfile:\n",
    "    reader = csv.reader(csvfile)\n",
    "\n",
    "    for row in reader:\n",
    "        if len(row) > 2:  \n",
    "            last_two_columns = ','.join(row[-2:])  \n",
    "            df.append(last_two_columns.split(','))  \n",
    "        else:\n",
    "            df.append(row)\n",
    "\n",
    "df = pd.DataFrame(df, columns=['Password', 'Strength'])\n",
    "df = df.dropna()\n",
    "df = df.drop_duplicates()\n",
    "df = df.drop(0).reset_index(drop=True)\n",
    "\n",
    "df"
   ]
  },
  {
   "cell_type": "markdown",
   "metadata": {},
   "source": [
    "---\n",
    "\n",
    "There is a group of characters that do not belong to password as they are non-printable control characters. We decided to remove every password that contains a character of this group.\n",
    "\n",
    "---"
   ]
  },
  {
   "cell_type": "code",
   "execution_count": 5,
   "metadata": {},
   "outputs": [
    {
     "data": {
      "text/html": [
       "<div>\n",
       "<style scoped>\n",
       "    .dataframe tbody tr th:only-of-type {\n",
       "        vertical-align: middle;\n",
       "    }\n",
       "\n",
       "    .dataframe tbody tr th {\n",
       "        vertical-align: top;\n",
       "    }\n",
       "\n",
       "    .dataframe thead th {\n",
       "        text-align: right;\n",
       "    }\n",
       "</style>\n",
       "<table border=\"1\" class=\"dataframe\">\n",
       "  <thead>\n",
       "    <tr style=\"text-align: right;\">\n",
       "      <th></th>\n",
       "      <th>Password</th>\n",
       "      <th>Strength</th>\n",
       "    </tr>\n",
       "  </thead>\n",
       "  <tbody>\n",
       "    <tr>\n",
       "      <th>0</th>\n",
       "      <td>kzde5577</td>\n",
       "      <td>1</td>\n",
       "    </tr>\n",
       "    <tr>\n",
       "      <th>1</th>\n",
       "      <td>kino3434</td>\n",
       "      <td>1</td>\n",
       "    </tr>\n",
       "    <tr>\n",
       "      <th>2</th>\n",
       "      <td>visi7k1yr</td>\n",
       "      <td>1</td>\n",
       "    </tr>\n",
       "    <tr>\n",
       "      <th>3</th>\n",
       "      <td>megzy123</td>\n",
       "      <td>1</td>\n",
       "    </tr>\n",
       "    <tr>\n",
       "      <th>4</th>\n",
       "      <td>lamborghin1</td>\n",
       "      <td>1</td>\n",
       "    </tr>\n",
       "    <tr>\n",
       "      <th>...</th>\n",
       "      <td>...</td>\n",
       "      <td>...</td>\n",
       "    </tr>\n",
       "    <tr>\n",
       "      <th>669836</th>\n",
       "      <td>10redtux10</td>\n",
       "      <td>1</td>\n",
       "    </tr>\n",
       "    <tr>\n",
       "      <th>669837</th>\n",
       "      <td>infrared1</td>\n",
       "      <td>1</td>\n",
       "    </tr>\n",
       "    <tr>\n",
       "      <th>669838</th>\n",
       "      <td>184520socram</td>\n",
       "      <td>1</td>\n",
       "    </tr>\n",
       "    <tr>\n",
       "      <th>669839</th>\n",
       "      <td>marken22a</td>\n",
       "      <td>1</td>\n",
       "    </tr>\n",
       "    <tr>\n",
       "      <th>669840</th>\n",
       "      <td>fxx4pw4g</td>\n",
       "      <td>1</td>\n",
       "    </tr>\n",
       "  </tbody>\n",
       "</table>\n",
       "<p>669806 rows × 2 columns</p>\n",
       "</div>"
      ],
      "text/plain": [
       "            Password Strength\n",
       "0           kzde5577        1\n",
       "1           kino3434        1\n",
       "2          visi7k1yr        1\n",
       "3           megzy123        1\n",
       "4        lamborghin1        1\n",
       "...              ...      ...\n",
       "669836    10redtux10        1\n",
       "669837     infrared1        1\n",
       "669838  184520socram        1\n",
       "669839     marken22a        1\n",
       "669840      fxx4pw4g        1\n",
       "\n",
       "[669806 rows x 2 columns]"
      ]
     },
     "execution_count": 5,
     "metadata": {},
     "output_type": "execute_result"
    }
   ],
   "source": [
    "chars_to_remove = ['\\x7f', '\\x81', '\\xa0', '\\x01', '\\x02', '\\x04', '\\x05', '\\x06',\n",
    "                   '\\x08', '\\x0e', '\\x0f', '\\x10', '\\x11', '\\x12', '\\x13', '\\x16',\n",
    "                   '\\x17', '\\x18', '\\x19', '\\x1b', '\\x1c', '\\x1d', '\\x1e', '\\x8d']\n",
    "\n",
    "for c in chars_to_remove:\n",
    "    df = df[~df['Password'].str.contains(c)]\n",
    "\n",
    "df"
   ]
  },
  {
   "cell_type": "markdown",
   "metadata": {},
   "source": [
    "---\n",
    "\n",
    "We convert the dtype of the column Strenght from object to int64:\n",
    "\n",
    "---"
   ]
  },
  {
   "cell_type": "code",
   "execution_count": 6,
   "metadata": {},
   "outputs": [
    {
     "data": {
      "text/plain": [
       "Password    object\n",
       "Strength     int64\n",
       "dtype: object"
      ]
     },
     "execution_count": 6,
     "metadata": {},
     "output_type": "execute_result"
    }
   ],
   "source": [
    "# convert 'Strength' column to numeric type (by default int64)\n",
    "df['Strength'] = pd.to_numeric(df['Strength'], errors='coerce')  \n",
    "\n",
    "# check the data types after conversion\n",
    "df.dtypes"
   ]
  },
  {
   "cell_type": "code",
   "execution_count": 7,
   "metadata": {},
   "outputs": [
    {
     "name": "stdout",
     "output_type": "stream",
     "text": [
      "<class 'pandas.core.frame.DataFrame'>\n",
      "Index: 669806 entries, 0 to 669840\n",
      "Data columns (total 2 columns):\n",
      " #   Column    Non-Null Count   Dtype \n",
      "---  ------    --------------   ----- \n",
      " 0   Password  669806 non-null  object\n",
      " 1   Strength  669806 non-null  int64 \n",
      "dtypes: int64(1), object(1)\n",
      "memory usage: 15.3+ MB\n"
     ]
    }
   ],
   "source": [
    "df.info()"
   ]
  },
  {
   "cell_type": "code",
   "execution_count": 8,
   "metadata": {},
   "outputs": [
    {
     "name": "stdout",
     "output_type": "stream",
     "text": [
      "The total number of rows in the DataFrame is: 669806\n"
     ]
    }
   ],
   "source": [
    "total_rows = len(df)\n",
    "print(f\"The total number of rows in the DataFrame is: {total_rows}\")"
   ]
  },
  {
   "cell_type": "markdown",
   "metadata": {},
   "source": [
    "---\n",
    "\n",
    "The total number of rows in the dataset coincides with the number of non-null values in our dataset, indicating that there are no null values, but we decide to do a double check:\n",
    "\n",
    "---"
   ]
  },
  {
   "cell_type": "code",
   "execution_count": 9,
   "metadata": {},
   "outputs": [
    {
     "name": "stdout",
     "output_type": "stream",
     "text": [
      "No null value in the 'Password' column.\n",
      "No null value in the 'Strebgth' column.\n"
     ]
    }
   ],
   "source": [
    "null_passwords = df['Password'].isnull().sum()\n",
    "\n",
    "if null_passwords > 0:\n",
    "    print(f\"the column 'Password' contain {null_passwords} null value.\")\n",
    "else:\n",
    "    print(\"No null value in the 'Password' column.\")\n",
    "\n",
    "null_strength= df['Strength'].isnull().sum()\n",
    "if null_strength > 0:\n",
    "    print(f\"the column 'Strength' contain {null_strength} null value.\")\n",
    "else:\n",
    "    print(\"No null value in the 'Strebgth' column.\")"
   ]
  },
  {
   "cell_type": "code",
   "execution_count": 10,
   "metadata": {},
   "outputs": [
    {
     "data": {
      "image/png": "[encoded data removed]",
      "text/plain": [
       "<Figure size 640x480 with 1 Axes>"
      ]
     },
     "metadata": {},
     "output_type": "display_data"
    }
   ],
   "source": [
    "# histogram plot of the 'Strength' column\n",
    "df['Strength'].value_counts().sort_index().plot(kind='bar')\n",
    "\n",
    "plt.title('Distribution of Strength')\n",
    "plt.xlabel('Strength Value')\n",
    "plt.ylabel('Frequency')\n",
    "plt.show()"
   ]
  },
  {
   "cell_type": "markdown",
   "metadata": {},
   "source": [
    "---\n",
    "\n",
    "Dataset seems very unbalanced towards the value \"1\", that means a password with \"medium strength\". From this unbalance we can use as a baseline the model that always answer \"1\" to any classification.\n",
    "\n",
    "The performance of this baseline model is:\n",
    "\n",
    "---"
   ]
  },
  {
   "cell_type": "code",
   "execution_count": 11,
   "metadata": {},
   "outputs": [
    {
     "name": "stdout",
     "output_type": "stream",
     "text": [
      "The baseline accuracy for our models is: 0.7416968495355372\n"
     ]
    }
   ],
   "source": [
    "baseline = df[df[\"Strength\"] == 1].shape[0] / df.shape[0]\n",
    "print(\"The baseline accuracy for our models is:\", baseline)"
   ]
  },
  {
   "cell_type": "markdown",
   "metadata": {},
   "source": [
    "# Features extraction"
   ]
  },
  {
   "cell_type": "markdown",
   "metadata": {},
   "source": [
    "## Stat features"
   ]
  },
  {
   "cell_type": "markdown",
   "metadata": {},
   "source": [
    "---\n",
    "\n",
    "The statistical features represent the first group of features extracted from the initial dataset; in particular, we focused on gaining information from the password itself, collecting information about how the passorwd was structered and creating new features. Some examples of these new features are the percentage of letters inside the password, the lowercase frequency, the presence of date of birth or the presence of sequences of letters correspong to the 'querty' keyboard scheme.\n",
    "\n",
    "---"
   ]
  },
  {
   "cell_type": "code",
   "execution_count": 12,
   "metadata": {},
   "outputs": [],
   "source": [
    "df_stat = df.copy()\n",
    "\n",
    "df_stat['Password'] = df_stat['Password'].replace({np.nan: ''})\n",
    "\n",
    "# length\n",
    "df_stat['length'] = df_stat['Password'].apply(lambda x: len(str(x)))\n",
    "\n",
    "# number of letters\n",
    "df_stat['num_letters'] = df_stat['Password'].apply(lambda x: sum(c.isalpha() for c in str(x)))\n",
    "\n",
    "# percentage of letters\n",
    "df_stat['percentage_letters'] = df_stat['Password'].apply(lambda x: round((sum(c.isalpha() for c in str(x)) / len(str(x))) * 100, 1) if len(str(x)) > 0 else 0)\n",
    "\n",
    "# number of numbers\n",
    "df_stat['num_numbers'] = df_stat['Password'].apply(lambda x: sum(c.isdigit() for c in str(x)))\n",
    "\n",
    "# percentage of numbers\n",
    "df_stat['percentage_numbers'] = df_stat['Password'].apply(lambda x: round((sum(c.isdigit() for c in str(x)) / len(str(x))) * 100, 1) if len(str(x)) > 0 else 0)\n",
    "\n",
    "# special character\n",
    "df_stat['has_special_characters'] = df_stat['Password'].apply(lambda x: any(not c.isalnum() for c in str(x)))\n",
    "\n",
    "# uppercase count\n",
    "def calculate_uppercase_count(password):\n",
    "    return sum(1 for char in password if char.isupper())\n",
    "df_stat['uppercase_count'] = df_stat['Password'].apply(calculate_uppercase_count)\n",
    "\n",
    "# percentage uppercase\n",
    "df_stat['percentage_uppercase'] = (df_stat['uppercase_count'] / df_stat['num_letters']) * 100\n",
    "df_stat['percentage_uppercase'] = df_stat['percentage_uppercase'].round(1)\n",
    "df_stat['percentage_uppercase'].fillna(0, inplace=True)\n",
    "\n",
    "# lowercase count\n",
    "def calculate_lowercase_count(password):\n",
    "    return sum(1 for char in password if char.islower())\n",
    "df_stat['lowercase_count'] = df_stat['Password'].apply(calculate_lowercase_count)\n",
    "\n",
    "# percentage lowercase\n",
    "df_stat['percentage_lowercase'] = (df_stat['lowercase_count']/df_stat['num_letters'])*100\n",
    "df_stat['percentage_lowercase'] = df_stat['percentage_lowercase'].round(1)\n",
    "df_stat['percentage_lowercase'].fillna(0, inplace=True)"
   ]
  },
  {
   "cell_type": "code",
   "execution_count": 13,
   "metadata": {},
   "outputs": [],
   "source": [
    "# lowercase frequency\n",
    "def lowercase_letter_frequency(password):\n",
    "    if len(password) == 0:\n",
    "        return 0\n",
    "    lowercase_count = sum(1 for char in password if char.islower())\n",
    "    lowercase_frequency = lowercase_count / len(password)\n",
    "    return lowercase_frequency\n",
    "df_stat['lowercase_frequency'] = df_stat['Password'].apply(lowercase_letter_frequency)\n",
    "\n",
    "# uppercase frequency\n",
    "def uppercase_letter_frequency(password):\n",
    "    if len(password) == 0:\n",
    "        return 0\n",
    "    uppercase_count = sum(1 for char in password if char.isupper())\n",
    "    uppercase_frequency = uppercase_count / len(password)\n",
    "    return uppercase_frequency\n",
    "df_stat['uppercase_frequency'] = df_stat['Password'].apply(uppercase_letter_frequency)\n",
    "\n",
    "# numbers frequency\n",
    "def numbers_frequency(password):\n",
    "    if len(password) == 0:\n",
    "        return 0\n",
    "    numbers_count = sum(1 for char in password if char.isdigit())\n",
    "    numbers_frequency = numbers_count / len(password)\n",
    "    return numbers_frequency\n",
    "df_stat['numbers_frequency'] = df_stat['Password'].apply(numbers_frequency)\n",
    "\n",
    "# unique characters, if that pasword has charaters that are repeated\n",
    "def calculate_unique_char_presence(password):\n",
    "    return len(set(password)) == len(password)\n",
    "df_stat['unique_char_presence'] = df_stat['Password'].apply(calculate_unique_char_presence)\n",
    "\n",
    "# entropy, link of the website where we found this measure:\n",
    "# https://gabrieleromanato.name/python-how-to-evaluate-password-entropy\n",
    "def calculate_entropy(password):\n",
    "    character_set = set(password)\n",
    "    character_set_size = len(character_set)\n",
    "    password_size = len(password)\n",
    "    entropy = math.log2(character_set_size ** password_size)\n",
    "    return entropy\n",
    "df_stat['entropy'] = df_stat['Password'].apply(calculate_entropy)\n",
    "\n",
    "# has consecutve uppercase letters\n",
    "def has_consecutive_uppercase(password):\n",
    "    pattern = re.compile(r'[A-Z]{2,}')  \n",
    "    return bool(pattern.search(password))\n",
    "df_stat['consecutive_uppercase_letters'] = df_stat['Password'].apply(has_consecutive_uppercase)\n",
    "\n",
    "# has consecutive lowercase letters\n",
    "def has_consecutive_lowercase(password):\n",
    "    pattern = re.compile(r'[a-z]{2,}')  \n",
    "    return bool(pattern.search(password))\n",
    "df_stat['consecutive_lowercase_letters'] = df_stat['Password'].apply(has_consecutive_lowercase)\n",
    "\n",
    "# has consecutive numbers\n",
    "def has_consecutive_number(password):\n",
    "    pattern = re.compile(r'[0-9]{2,}')  \n",
    "    return bool(pattern.search(password))\n",
    "df_stat['consecutive_numbers'] = df_stat['Password'].apply(has_consecutive_number)\n",
    "\n",
    "# has keyboard patterns\n",
    "def has_keyboard_pattern(password):\n",
    "    keyboard_patterns = [\"qwertyuiop\", \"asdfghjkl\", \"zxcvbnm\", \"1234567890\"]\n",
    "    for pattern in keyboard_patterns:\n",
    "        if pattern in password.lower():\n",
    "            return True\n",
    "    return False\n",
    "df_stat['querty_sequence'] = df_stat['Password'].apply(has_keyboard_pattern) #there are 293 rows with that"
   ]
  },
  {
   "cell_type": "code",
   "execution_count": 14,
   "metadata": {},
   "outputs": [
    {
     "data": {
      "text/html": [
       "<div>\n",
       "<style scoped>\n",
       "    .dataframe tbody tr th:only-of-type {\n",
       "        vertical-align: middle;\n",
       "    }\n",
       "\n",
       "    .dataframe tbody tr th {\n",
       "        vertical-align: top;\n",
       "    }\n",
       "\n",
       "    .dataframe thead th {\n",
       "        text-align: right;\n",
       "    }\n",
       "</style>\n",
       "<table border=\"1\" class=\"dataframe\">\n",
       "  <thead>\n",
       "    <tr style=\"text-align: right;\">\n",
       "      <th></th>\n",
       "      <th>Password</th>\n",
       "      <th>Strength</th>\n",
       "      <th>length</th>\n",
       "      <th>num_letters</th>\n",
       "      <th>percentage_letters</th>\n",
       "      <th>num_numbers</th>\n",
       "      <th>percentage_numbers</th>\n",
       "      <th>has_special_characters</th>\n",
       "      <th>uppercase_count</th>\n",
       "      <th>percentage_uppercase</th>\n",
       "      <th>...</th>\n",
       "      <th>uppercase_frequency</th>\n",
       "      <th>numbers_frequency</th>\n",
       "      <th>unique_char_presence</th>\n",
       "      <th>entropy</th>\n",
       "      <th>consecutive_uppercase_letters</th>\n",
       "      <th>consecutive_lowercase_letters</th>\n",
       "      <th>consecutive_numbers</th>\n",
       "      <th>querty_sequence</th>\n",
       "      <th>common_word</th>\n",
       "      <th>year_birth</th>\n",
       "    </tr>\n",
       "  </thead>\n",
       "  <tbody>\n",
       "    <tr>\n",
       "      <th>0</th>\n",
       "      <td>kzde5577</td>\n",
       "      <td>1</td>\n",
       "      <td>8</td>\n",
       "      <td>4</td>\n",
       "      <td>50.0</td>\n",
       "      <td>4</td>\n",
       "      <td>50.0</td>\n",
       "      <td>False</td>\n",
       "      <td>0</td>\n",
       "      <td>0.0</td>\n",
       "      <td>...</td>\n",
       "      <td>0.0</td>\n",
       "      <td>0.500000</td>\n",
       "      <td>False</td>\n",
       "      <td>20.679700</td>\n",
       "      <td>False</td>\n",
       "      <td>True</td>\n",
       "      <td>True</td>\n",
       "      <td>False</td>\n",
       "      <td>False</td>\n",
       "      <td>False</td>\n",
       "    </tr>\n",
       "    <tr>\n",
       "      <th>1</th>\n",
       "      <td>kino3434</td>\n",
       "      <td>1</td>\n",
       "      <td>8</td>\n",
       "      <td>4</td>\n",
       "      <td>50.0</td>\n",
       "      <td>4</td>\n",
       "      <td>50.0</td>\n",
       "      <td>False</td>\n",
       "      <td>0</td>\n",
       "      <td>0.0</td>\n",
       "      <td>...</td>\n",
       "      <td>0.0</td>\n",
       "      <td>0.500000</td>\n",
       "      <td>False</td>\n",
       "      <td>20.679700</td>\n",
       "      <td>False</td>\n",
       "      <td>True</td>\n",
       "      <td>True</td>\n",
       "      <td>False</td>\n",
       "      <td>True</td>\n",
       "      <td>False</td>\n",
       "    </tr>\n",
       "    <tr>\n",
       "      <th>2</th>\n",
       "      <td>visi7k1yr</td>\n",
       "      <td>1</td>\n",
       "      <td>9</td>\n",
       "      <td>7</td>\n",
       "      <td>77.8</td>\n",
       "      <td>2</td>\n",
       "      <td>22.2</td>\n",
       "      <td>False</td>\n",
       "      <td>0</td>\n",
       "      <td>0.0</td>\n",
       "      <td>...</td>\n",
       "      <td>0.0</td>\n",
       "      <td>0.222222</td>\n",
       "      <td>False</td>\n",
       "      <td>27.000000</td>\n",
       "      <td>False</td>\n",
       "      <td>True</td>\n",
       "      <td>False</td>\n",
       "      <td>False</td>\n",
       "      <td>False</td>\n",
       "      <td>False</td>\n",
       "    </tr>\n",
       "    <tr>\n",
       "      <th>3</th>\n",
       "      <td>megzy123</td>\n",
       "      <td>1</td>\n",
       "      <td>8</td>\n",
       "      <td>5</td>\n",
       "      <td>62.5</td>\n",
       "      <td>3</td>\n",
       "      <td>37.5</td>\n",
       "      <td>False</td>\n",
       "      <td>0</td>\n",
       "      <td>0.0</td>\n",
       "      <td>...</td>\n",
       "      <td>0.0</td>\n",
       "      <td>0.375000</td>\n",
       "      <td>True</td>\n",
       "      <td>24.000000</td>\n",
       "      <td>False</td>\n",
       "      <td>True</td>\n",
       "      <td>True</td>\n",
       "      <td>False</td>\n",
       "      <td>True</td>\n",
       "      <td>False</td>\n",
       "    </tr>\n",
       "    <tr>\n",
       "      <th>4</th>\n",
       "      <td>lamborghin1</td>\n",
       "      <td>1</td>\n",
       "      <td>11</td>\n",
       "      <td>10</td>\n",
       "      <td>90.9</td>\n",
       "      <td>1</td>\n",
       "      <td>9.1</td>\n",
       "      <td>False</td>\n",
       "      <td>0</td>\n",
       "      <td>0.0</td>\n",
       "      <td>...</td>\n",
       "      <td>0.0</td>\n",
       "      <td>0.090909</td>\n",
       "      <td>True</td>\n",
       "      <td>38.053748</td>\n",
       "      <td>False</td>\n",
       "      <td>True</td>\n",
       "      <td>False</td>\n",
       "      <td>False</td>\n",
       "      <td>True</td>\n",
       "      <td>False</td>\n",
       "    </tr>\n",
       "    <tr>\n",
       "      <th>...</th>\n",
       "      <td>...</td>\n",
       "      <td>...</td>\n",
       "      <td>...</td>\n",
       "      <td>...</td>\n",
       "      <td>...</td>\n",
       "      <td>...</td>\n",
       "      <td>...</td>\n",
       "      <td>...</td>\n",
       "      <td>...</td>\n",
       "      <td>...</td>\n",
       "      <td>...</td>\n",
       "      <td>...</td>\n",
       "      <td>...</td>\n",
       "      <td>...</td>\n",
       "      <td>...</td>\n",
       "      <td>...</td>\n",
       "      <td>...</td>\n",
       "      <td>...</td>\n",
       "      <td>...</td>\n",
       "      <td>...</td>\n",
       "      <td>...</td>\n",
       "    </tr>\n",
       "    <tr>\n",
       "      <th>669836</th>\n",
       "      <td>10redtux10</td>\n",
       "      <td>1</td>\n",
       "      <td>10</td>\n",
       "      <td>6</td>\n",
       "      <td>60.0</td>\n",
       "      <td>4</td>\n",
       "      <td>40.0</td>\n",
       "      <td>False</td>\n",
       "      <td>0</td>\n",
       "      <td>0.0</td>\n",
       "      <td>...</td>\n",
       "      <td>0.0</td>\n",
       "      <td>0.400000</td>\n",
       "      <td>False</td>\n",
       "      <td>30.000000</td>\n",
       "      <td>False</td>\n",
       "      <td>True</td>\n",
       "      <td>True</td>\n",
       "      <td>False</td>\n",
       "      <td>False</td>\n",
       "      <td>False</td>\n",
       "    </tr>\n",
       "    <tr>\n",
       "      <th>669837</th>\n",
       "      <td>infrared1</td>\n",
       "      <td>1</td>\n",
       "      <td>9</td>\n",
       "      <td>8</td>\n",
       "      <td>88.9</td>\n",
       "      <td>1</td>\n",
       "      <td>11.1</td>\n",
       "      <td>False</td>\n",
       "      <td>0</td>\n",
       "      <td>0.0</td>\n",
       "      <td>...</td>\n",
       "      <td>0.0</td>\n",
       "      <td>0.111111</td>\n",
       "      <td>False</td>\n",
       "      <td>27.000000</td>\n",
       "      <td>False</td>\n",
       "      <td>True</td>\n",
       "      <td>False</td>\n",
       "      <td>False</td>\n",
       "      <td>True</td>\n",
       "      <td>False</td>\n",
       "    </tr>\n",
       "    <tr>\n",
       "      <th>669838</th>\n",
       "      <td>184520socram</td>\n",
       "      <td>1</td>\n",
       "      <td>12</td>\n",
       "      <td>6</td>\n",
       "      <td>50.0</td>\n",
       "      <td>6</td>\n",
       "      <td>50.0</td>\n",
       "      <td>False</td>\n",
       "      <td>0</td>\n",
       "      <td>0.0</td>\n",
       "      <td>...</td>\n",
       "      <td>0.0</td>\n",
       "      <td>0.500000</td>\n",
       "      <td>True</td>\n",
       "      <td>43.019550</td>\n",
       "      <td>False</td>\n",
       "      <td>True</td>\n",
       "      <td>True</td>\n",
       "      <td>False</td>\n",
       "      <td>True</td>\n",
       "      <td>False</td>\n",
       "    </tr>\n",
       "    <tr>\n",
       "      <th>669839</th>\n",
       "      <td>marken22a</td>\n",
       "      <td>1</td>\n",
       "      <td>9</td>\n",
       "      <td>7</td>\n",
       "      <td>77.8</td>\n",
       "      <td>2</td>\n",
       "      <td>22.2</td>\n",
       "      <td>False</td>\n",
       "      <td>0</td>\n",
       "      <td>0.0</td>\n",
       "      <td>...</td>\n",
       "      <td>0.0</td>\n",
       "      <td>0.222222</td>\n",
       "      <td>False</td>\n",
       "      <td>25.266194</td>\n",
       "      <td>False</td>\n",
       "      <td>True</td>\n",
       "      <td>True</td>\n",
       "      <td>False</td>\n",
       "      <td>False</td>\n",
       "      <td>False</td>\n",
       "    </tr>\n",
       "    <tr>\n",
       "      <th>669840</th>\n",
       "      <td>fxx4pw4g</td>\n",
       "      <td>1</td>\n",
       "      <td>8</td>\n",
       "      <td>6</td>\n",
       "      <td>75.0</td>\n",
       "      <td>2</td>\n",
       "      <td>25.0</td>\n",
       "      <td>False</td>\n",
       "      <td>0</td>\n",
       "      <td>0.0</td>\n",
       "      <td>...</td>\n",
       "      <td>0.0</td>\n",
       "      <td>0.250000</td>\n",
       "      <td>False</td>\n",
       "      <td>20.679700</td>\n",
       "      <td>False</td>\n",
       "      <td>True</td>\n",
       "      <td>False</td>\n",
       "      <td>False</td>\n",
       "      <td>False</td>\n",
       "      <td>False</td>\n",
       "    </tr>\n",
       "  </tbody>\n",
       "</table>\n",
       "<p>669806 rows × 23 columns</p>\n",
       "</div>"
      ],
      "text/plain": [
       "            Password  Strength  length  num_letters  percentage_letters  \\\n",
       "0           kzde5577         1       8            4                50.0   \n",
       "1           kino3434         1       8            4                50.0   \n",
       "2          visi7k1yr         1       9            7                77.8   \n",
       "3           megzy123         1       8            5                62.5   \n",
       "4        lamborghin1         1      11           10                90.9   \n",
       "...              ...       ...     ...          ...                 ...   \n",
       "669836    10redtux10         1      10            6                60.0   \n",
       "669837     infrared1         1       9            8                88.9   \n",
       "669838  184520socram         1      12            6                50.0   \n",
       "669839     marken22a         1       9            7                77.8   \n",
       "669840      fxx4pw4g         1       8            6                75.0   \n",
       "\n",
       "        num_numbers  percentage_numbers  has_special_characters  \\\n",
       "0                 4                50.0                   False   \n",
       "1                 4                50.0                   False   \n",
       "2                 2                22.2                   False   \n",
       "3                 3                37.5                   False   \n",
       "4                 1                 9.1                   False   \n",
       "...             ...                 ...                     ...   \n",
       "669836            4                40.0                   False   \n",
       "669837            1                11.1                   False   \n",
       "669838            6                50.0                   False   \n",
       "669839            2                22.2                   False   \n",
       "669840            2                25.0                   False   \n",
       "\n",
       "        uppercase_count  percentage_uppercase  ...  uppercase_frequency  \\\n",
       "0                     0                   0.0  ...                  0.0   \n",
       "1                     0                   0.0  ...                  0.0   \n",
       "2                     0                   0.0  ...                  0.0   \n",
       "3                     0                   0.0  ...                  0.0   \n",
       "4                     0                   0.0  ...                  0.0   \n",
       "...                 ...                   ...  ...                  ...   \n",
       "669836                0                   0.0  ...                  0.0   \n",
       "669837                0                   0.0  ...                  0.0   \n",
       "669838                0                   0.0  ...                  0.0   \n",
       "669839                0                   0.0  ...                  0.0   \n",
       "669840                0                   0.0  ...                  0.0   \n",
       "\n",
       "        numbers_frequency  unique_char_presence    entropy  \\\n",
       "0                0.500000                 False  20.679700   \n",
       "1                0.500000                 False  20.679700   \n",
       "2                0.222222                 False  27.000000   \n",
       "3                0.375000                  True  24.000000   \n",
       "4                0.090909                  True  38.053748   \n",
       "...                   ...                   ...        ...   \n",
       "669836           0.400000                 False  30.000000   \n",
       "669837           0.111111                 False  27.000000   \n",
       "669838           0.500000                  True  43.019550   \n",
       "669839           0.222222                 False  25.266194   \n",
       "669840           0.250000                 False  20.679700   \n",
       "\n",
       "        consecutive_uppercase_letters  consecutive_lowercase_letters  \\\n",
       "0                               False                           True   \n",
       "1                               False                           True   \n",
       "2                               False                           True   \n",
       "3                               False                           True   \n",
       "4                               False                           True   \n",
       "...                               ...                            ...   \n",
       "669836                          False                           True   \n",
       "669837                          False                           True   \n",
       "669838                          False                           True   \n",
       "669839                          False                           True   \n",
       "669840                          False                           True   \n",
       "\n",
       "        consecutive_numbers  querty_sequence  common_word  year_birth  \n",
       "0                      True            False        False       False  \n",
       "1                      True            False         True       False  \n",
       "2                     False            False        False       False  \n",
       "3                      True            False         True       False  \n",
       "4                     False            False         True       False  \n",
       "...                     ...              ...          ...         ...  \n",
       "669836                 True            False        False       False  \n",
       "669837                False            False         True       False  \n",
       "669838                 True            False         True       False  \n",
       "669839                 True            False        False       False  \n",
       "669840                False            False        False       False  \n",
       "\n",
       "[669806 rows x 23 columns]"
      ]
     },
     "execution_count": 14,
     "metadata": {},
     "output_type": "execute_result"
    }
   ],
   "source": [
    "# common words\n",
    "common_words = [\n",
    "    'the', 'be', 'to', 'of', 'and', 'in', 'that', 'have', 'for', 'not', 'with', 'as', 'you', 'do',\n",
    "    'this', 'but', 'his', 'by', 'from', 'they', 'we', 'say', 'her', 'she',\n",
    "    'or', 'an', 'will', 'my', 'one', 'all', 'would', 'there', 'their', 'what',\n",
    "    'so', 'up', 'out', 'if', 'about', 'who', 'get', 'which', 'go', 'me',\n",
    "    'when', 'make', 'can', 'like', 'time', 'just', 'him', 'know', 'take',\n",
    "    'people', 'into', 'year', 'your', 'good', 'some', 'could', 'them', 'see', 'other',\n",
    "    'than', 'then', 'now', 'look', 'only', 'come', 'its', 'over', 'think', 'also',\n",
    "    'back', 'after', 'use', 'two', 'how', 'our', 'work', 'first', 'well', 'way',\n",
    "    'even', 'new', 'want', 'because', 'any', 'these', 'give', 'day', 'most', 'us'\n",
    "]\n",
    "\n",
    "def contains_common_word(password):\n",
    "    password_lower = password.lower()\n",
    "    for word in common_words:\n",
    "        if word in password_lower:\n",
    "            return True\n",
    "    return False\n",
    "df_stat['common_word'] = df_stat['Password'].apply(contains_common_word)\n",
    "\n",
    "def contains_birthday_year(password):\n",
    "    pattern = re.compile(r'(0[1-9]|[1-2][0-9]|3[0-1])(0[1-9]|1[0-2])(19[4-9][0-9]|20[0-1][0-9]|2023)')\n",
    "    return bool(pattern.search(password))\n",
    "df_stat['year_birth'] = df_stat['Password'].apply(contains_birthday_year)\n",
    "\n",
    "df_stat"
   ]
  },
  {
   "cell_type": "markdown",
   "metadata": {},
   "source": [
    "---\n",
    "\n",
    "Let's check the correlation between the extracted features and the target value:\n",
    "\n",
    "---"
   ]
  },
  {
   "cell_type": "code",
   "execution_count": 15,
   "metadata": {},
   "outputs": [
    {
     "data": {
      "text/plain": [
       "Strength                         1.000000\n",
       "length                           0.838639\n",
       "entropy                          0.820633\n",
       "num_letters                      0.626136\n",
       "uppercase_count                  0.620071\n",
       "consecutive_uppercase_letters    0.587224\n",
       "uppercase_frequency              0.568979\n",
       "percentage_uppercase             0.521380\n",
       "lowercase_count                  0.226105\n",
       "has_special_characters           0.179220\n",
       "num_numbers                      0.175597\n",
       "percentage_letters               0.079043\n",
       "common_word                      0.032396\n",
       "year_birth                       0.017083\n",
       "querty_sequence                  0.004886\n",
       "consecutive_numbers             -0.020600\n",
       "consecutive_lowercase_letters   -0.080613\n",
       "numbers_frequency               -0.092120\n",
       "percentage_numbers              -0.092276\n",
       "unique_char_presence            -0.205980\n",
       "lowercase_frequency             -0.324765\n",
       "percentage_lowercase            -0.498886\n",
       "Name: Strength, dtype: float64"
      ]
     },
     "execution_count": 15,
     "metadata": {},
     "output_type": "execute_result"
    }
   ],
   "source": [
    "df_stat.drop(['Password'], axis=1).corr()[\"Strength\"].sort_values(ascending = False)"
   ]
  },
  {
   "cell_type": "markdown",
   "metadata": {},
   "source": [
    "---\n",
    "\n",
    "We see a very high correlation between strength and features that contains informations about the password length.\n",
    "\n",
    "---"
   ]
  },
  {
   "cell_type": "markdown",
   "metadata": {},
   "source": [
    "## TF-IDF features"
   ]
  },
  {
   "cell_type": "markdown",
   "metadata": {},
   "source": [
    "---\n",
    "\n",
    "Our goal is to check wether character-level analysis on frequency provides valuable insights, computing the TF-IDF score for each character of the passwords.\\\n",
    "It is computed by multiplying its Term Frequency within the password, by the Inverse Document Frenquecy. This will be used to identify characters that are both frequently occurring within a specific password and relatively rare across the entire dataset; leading us to the measure of uniqueness or importance of those characters within that password.\n",
    "\n",
    "---"
   ]
  },
  {
   "cell_type": "code",
   "execution_count": 16,
   "metadata": {},
   "outputs": [
    {
     "data": {
      "text/html": [
       "<div>\n",
       "<style scoped>\n",
       "    .dataframe tbody tr th:only-of-type {\n",
       "        vertical-align: middle;\n",
       "    }\n",
       "\n",
       "    .dataframe tbody tr th {\n",
       "        vertical-align: top;\n",
       "    }\n",
       "\n",
       "    .dataframe thead th {\n",
       "        text-align: right;\n",
       "    }\n",
       "</style>\n",
       "<table border=\"1\" class=\"dataframe\">\n",
       "  <thead>\n",
       "    <tr style=\"text-align: right;\">\n",
       "      <th></th>\n",
       "      <th>Password</th>\n",
       "      <th>Strength</th>\n",
       "      <th></th>\n",
       "      <th>!</th>\n",
       "      <th>\"</th>\n",
       "      <th>#</th>\n",
       "      <th>$</th>\n",
       "      <th>%</th>\n",
       "      <th>&amp;</th>\n",
       "      <th>(</th>\n",
       "      <th>...</th>\n",
       "      <th>ÿ</th>\n",
       "      <th>œ</th>\n",
       "      <th>ƒ</th>\n",
       "      <th>—</th>\n",
       "      <th>‚</th>\n",
       "      <th>‡</th>\n",
       "      <th>…</th>\n",
       "      <th>‹</th>\n",
       "      <th>›</th>\n",
       "      <th>™</th>\n",
       "    </tr>\n",
       "  </thead>\n",
       "  <tbody>\n",
       "    <tr>\n",
       "      <th>0</th>\n",
       "      <td>kzde5577</td>\n",
       "      <td>1</td>\n",
       "      <td>0.0</td>\n",
       "      <td>0.0</td>\n",
       "      <td>0.0</td>\n",
       "      <td>0.0</td>\n",
       "      <td>0.0</td>\n",
       "      <td>0.0</td>\n",
       "      <td>0.0</td>\n",
       "      <td>0.0</td>\n",
       "      <td>...</td>\n",
       "      <td>0.0</td>\n",
       "      <td>0.0</td>\n",
       "      <td>0.0</td>\n",
       "      <td>0.0</td>\n",
       "      <td>0.0</td>\n",
       "      <td>0.0</td>\n",
       "      <td>0.0</td>\n",
       "      <td>0.0</td>\n",
       "      <td>0.0</td>\n",
       "      <td>0.0</td>\n",
       "    </tr>\n",
       "    <tr>\n",
       "      <th>1</th>\n",
       "      <td>kino3434</td>\n",
       "      <td>1</td>\n",
       "      <td>0.0</td>\n",
       "      <td>0.0</td>\n",
       "      <td>0.0</td>\n",
       "      <td>0.0</td>\n",
       "      <td>0.0</td>\n",
       "      <td>0.0</td>\n",
       "      <td>0.0</td>\n",
       "      <td>0.0</td>\n",
       "      <td>...</td>\n",
       "      <td>0.0</td>\n",
       "      <td>0.0</td>\n",
       "      <td>0.0</td>\n",
       "      <td>0.0</td>\n",
       "      <td>0.0</td>\n",
       "      <td>0.0</td>\n",
       "      <td>0.0</td>\n",
       "      <td>0.0</td>\n",
       "      <td>0.0</td>\n",
       "      <td>0.0</td>\n",
       "    </tr>\n",
       "    <tr>\n",
       "      <th>2</th>\n",
       "      <td>visi7k1yr</td>\n",
       "      <td>1</td>\n",
       "      <td>0.0</td>\n",
       "      <td>0.0</td>\n",
       "      <td>0.0</td>\n",
       "      <td>0.0</td>\n",
       "      <td>0.0</td>\n",
       "      <td>0.0</td>\n",
       "      <td>0.0</td>\n",
       "      <td>0.0</td>\n",
       "      <td>...</td>\n",
       "      <td>0.0</td>\n",
       "      <td>0.0</td>\n",
       "      <td>0.0</td>\n",
       "      <td>0.0</td>\n",
       "      <td>0.0</td>\n",
       "      <td>0.0</td>\n",
       "      <td>0.0</td>\n",
       "      <td>0.0</td>\n",
       "      <td>0.0</td>\n",
       "      <td>0.0</td>\n",
       "    </tr>\n",
       "    <tr>\n",
       "      <th>3</th>\n",
       "      <td>megzy123</td>\n",
       "      <td>1</td>\n",
       "      <td>0.0</td>\n",
       "      <td>0.0</td>\n",
       "      <td>0.0</td>\n",
       "      <td>0.0</td>\n",
       "      <td>0.0</td>\n",
       "      <td>0.0</td>\n",
       "      <td>0.0</td>\n",
       "      <td>0.0</td>\n",
       "      <td>...</td>\n",
       "      <td>0.0</td>\n",
       "      <td>0.0</td>\n",
       "      <td>0.0</td>\n",
       "      <td>0.0</td>\n",
       "      <td>0.0</td>\n",
       "      <td>0.0</td>\n",
       "      <td>0.0</td>\n",
       "      <td>0.0</td>\n",
       "      <td>0.0</td>\n",
       "      <td>0.0</td>\n",
       "    </tr>\n",
       "    <tr>\n",
       "      <th>4</th>\n",
       "      <td>lamborghin1</td>\n",
       "      <td>1</td>\n",
       "      <td>0.0</td>\n",
       "      <td>0.0</td>\n",
       "      <td>0.0</td>\n",
       "      <td>0.0</td>\n",
       "      <td>0.0</td>\n",
       "      <td>0.0</td>\n",
       "      <td>0.0</td>\n",
       "      <td>0.0</td>\n",
       "      <td>...</td>\n",
       "      <td>0.0</td>\n",
       "      <td>0.0</td>\n",
       "      <td>0.0</td>\n",
       "      <td>0.0</td>\n",
       "      <td>0.0</td>\n",
       "      <td>0.0</td>\n",
       "      <td>0.0</td>\n",
       "      <td>0.0</td>\n",
       "      <td>0.0</td>\n",
       "      <td>0.0</td>\n",
       "    </tr>\n",
       "    <tr>\n",
       "      <th>...</th>\n",
       "      <td>...</td>\n",
       "      <td>...</td>\n",
       "      <td>...</td>\n",
       "      <td>...</td>\n",
       "      <td>...</td>\n",
       "      <td>...</td>\n",
       "      <td>...</td>\n",
       "      <td>...</td>\n",
       "      <td>...</td>\n",
       "      <td>...</td>\n",
       "      <td>...</td>\n",
       "      <td>...</td>\n",
       "      <td>...</td>\n",
       "      <td>...</td>\n",
       "      <td>...</td>\n",
       "      <td>...</td>\n",
       "      <td>...</td>\n",
       "      <td>...</td>\n",
       "      <td>...</td>\n",
       "      <td>...</td>\n",
       "      <td>...</td>\n",
       "    </tr>\n",
       "    <tr>\n",
       "      <th>669836</th>\n",
       "      <td>10redtux10</td>\n",
       "      <td>1</td>\n",
       "      <td>0.0</td>\n",
       "      <td>0.0</td>\n",
       "      <td>0.0</td>\n",
       "      <td>0.0</td>\n",
       "      <td>0.0</td>\n",
       "      <td>0.0</td>\n",
       "      <td>0.0</td>\n",
       "      <td>0.0</td>\n",
       "      <td>...</td>\n",
       "      <td>0.0</td>\n",
       "      <td>0.0</td>\n",
       "      <td>0.0</td>\n",
       "      <td>0.0</td>\n",
       "      <td>0.0</td>\n",
       "      <td>0.0</td>\n",
       "      <td>0.0</td>\n",
       "      <td>0.0</td>\n",
       "      <td>0.0</td>\n",
       "      <td>0.0</td>\n",
       "    </tr>\n",
       "    <tr>\n",
       "      <th>669837</th>\n",
       "      <td>infrared1</td>\n",
       "      <td>1</td>\n",
       "      <td>0.0</td>\n",
       "      <td>0.0</td>\n",
       "      <td>0.0</td>\n",
       "      <td>0.0</td>\n",
       "      <td>0.0</td>\n",
       "      <td>0.0</td>\n",
       "      <td>0.0</td>\n",
       "      <td>0.0</td>\n",
       "      <td>...</td>\n",
       "      <td>0.0</td>\n",
       "      <td>0.0</td>\n",
       "      <td>0.0</td>\n",
       "      <td>0.0</td>\n",
       "      <td>0.0</td>\n",
       "      <td>0.0</td>\n",
       "      <td>0.0</td>\n",
       "      <td>0.0</td>\n",
       "      <td>0.0</td>\n",
       "      <td>0.0</td>\n",
       "    </tr>\n",
       "    <tr>\n",
       "      <th>669838</th>\n",
       "      <td>184520socram</td>\n",
       "      <td>1</td>\n",
       "      <td>0.0</td>\n",
       "      <td>0.0</td>\n",
       "      <td>0.0</td>\n",
       "      <td>0.0</td>\n",
       "      <td>0.0</td>\n",
       "      <td>0.0</td>\n",
       "      <td>0.0</td>\n",
       "      <td>0.0</td>\n",
       "      <td>...</td>\n",
       "      <td>0.0</td>\n",
       "      <td>0.0</td>\n",
       "      <td>0.0</td>\n",
       "      <td>0.0</td>\n",
       "      <td>0.0</td>\n",
       "      <td>0.0</td>\n",
       "      <td>0.0</td>\n",
       "      <td>0.0</td>\n",
       "      <td>0.0</td>\n",
       "      <td>0.0</td>\n",
       "    </tr>\n",
       "    <tr>\n",
       "      <th>669839</th>\n",
       "      <td>marken22a</td>\n",
       "      <td>1</td>\n",
       "      <td>0.0</td>\n",
       "      <td>0.0</td>\n",
       "      <td>0.0</td>\n",
       "      <td>0.0</td>\n",
       "      <td>0.0</td>\n",
       "      <td>0.0</td>\n",
       "      <td>0.0</td>\n",
       "      <td>0.0</td>\n",
       "      <td>...</td>\n",
       "      <td>0.0</td>\n",
       "      <td>0.0</td>\n",
       "      <td>0.0</td>\n",
       "      <td>0.0</td>\n",
       "      <td>0.0</td>\n",
       "      <td>0.0</td>\n",
       "      <td>0.0</td>\n",
       "      <td>0.0</td>\n",
       "      <td>0.0</td>\n",
       "      <td>0.0</td>\n",
       "    </tr>\n",
       "    <tr>\n",
       "      <th>669840</th>\n",
       "      <td>fxx4pw4g</td>\n",
       "      <td>1</td>\n",
       "      <td>0.0</td>\n",
       "      <td>0.0</td>\n",
       "      <td>0.0</td>\n",
       "      <td>0.0</td>\n",
       "      <td>0.0</td>\n",
       "      <td>0.0</td>\n",
       "      <td>0.0</td>\n",
       "      <td>0.0</td>\n",
       "      <td>...</td>\n",
       "      <td>0.0</td>\n",
       "      <td>0.0</td>\n",
       "      <td>0.0</td>\n",
       "      <td>0.0</td>\n",
       "      <td>0.0</td>\n",
       "      <td>0.0</td>\n",
       "      <td>0.0</td>\n",
       "      <td>0.0</td>\n",
       "      <td>0.0</td>\n",
       "      <td>0.0</td>\n",
       "    </tr>\n",
       "  </tbody>\n",
       "</table>\n",
       "<p>669806 rows × 122 columns</p>\n",
       "</div>"
      ],
      "text/plain": [
       "            Password  Strength         !    \"    #    $    %    &    (  ...  \\\n",
       "0           kzde5577         1  0.0  0.0  0.0  0.0  0.0  0.0  0.0  0.0  ...   \n",
       "1           kino3434         1  0.0  0.0  0.0  0.0  0.0  0.0  0.0  0.0  ...   \n",
       "2          visi7k1yr         1  0.0  0.0  0.0  0.0  0.0  0.0  0.0  0.0  ...   \n",
       "3           megzy123         1  0.0  0.0  0.0  0.0  0.0  0.0  0.0  0.0  ...   \n",
       "4        lamborghin1         1  0.0  0.0  0.0  0.0  0.0  0.0  0.0  0.0  ...   \n",
       "...              ...       ...  ...  ...  ...  ...  ...  ...  ...  ...  ...   \n",
       "669836    10redtux10         1  0.0  0.0  0.0  0.0  0.0  0.0  0.0  0.0  ...   \n",
       "669837     infrared1         1  0.0  0.0  0.0  0.0  0.0  0.0  0.0  0.0  ...   \n",
       "669838  184520socram         1  0.0  0.0  0.0  0.0  0.0  0.0  0.0  0.0  ...   \n",
       "669839     marken22a         1  0.0  0.0  0.0  0.0  0.0  0.0  0.0  0.0  ...   \n",
       "669840      fxx4pw4g         1  0.0  0.0  0.0  0.0  0.0  0.0  0.0  0.0  ...   \n",
       "\n",
       "          ÿ    œ    ƒ    —    ‚    ‡    …    ‹    ›    ™  \n",
       "0       0.0  0.0  0.0  0.0  0.0  0.0  0.0  0.0  0.0  0.0  \n",
       "1       0.0  0.0  0.0  0.0  0.0  0.0  0.0  0.0  0.0  0.0  \n",
       "2       0.0  0.0  0.0  0.0  0.0  0.0  0.0  0.0  0.0  0.0  \n",
       "3       0.0  0.0  0.0  0.0  0.0  0.0  0.0  0.0  0.0  0.0  \n",
       "4       0.0  0.0  0.0  0.0  0.0  0.0  0.0  0.0  0.0  0.0  \n",
       "...     ...  ...  ...  ...  ...  ...  ...  ...  ...  ...  \n",
       "669836  0.0  0.0  0.0  0.0  0.0  0.0  0.0  0.0  0.0  0.0  \n",
       "669837  0.0  0.0  0.0  0.0  0.0  0.0  0.0  0.0  0.0  0.0  \n",
       "669838  0.0  0.0  0.0  0.0  0.0  0.0  0.0  0.0  0.0  0.0  \n",
       "669839  0.0  0.0  0.0  0.0  0.0  0.0  0.0  0.0  0.0  0.0  \n",
       "669840  0.0  0.0  0.0  0.0  0.0  0.0  0.0  0.0  0.0  0.0  \n",
       "\n",
       "[669806 rows x 122 columns]"
      ]
     },
     "execution_count": 16,
     "metadata": {},
     "output_type": "execute_result"
    }
   ],
   "source": [
    "# TF-IDF of each sample's character\n",
    "psw = df['Password'].values\n",
    "vec = TfidfVectorizer(analyzer='char')\n",
    "X = vec.fit_transform(psw)\n",
    "tfidf_df = pd.DataFrame(X.toarray(), columns=vec.get_feature_names_out(), index=df.index)\n",
    "\n",
    "# merge the original DataFrame with the TF-IDF DataFrame based on indices\n",
    "tfidf_features = df[[\"Password\", \"Strength\"]].join(tfidf_df)\n",
    "tfidf_features"
   ]
  },
  {
   "cell_type": "markdown",
   "metadata": {},
   "source": [
    "---\n",
    "\n",
    "We want to check if our dataset contains some unexpected character column:\n",
    "\n",
    "---"
   ]
  },
  {
   "cell_type": "code",
   "execution_count": 17,
   "metadata": {},
   "outputs": [
    {
     "name": "stdout",
     "output_type": "stream",
     "text": [
      "['Password', 'Strength', ' ', '!', '\"', '#', '$', '%', '&', '(', ')', '*', '+', '-', '.', '/', '0', '1', '2', '3', '4', '5', '6', '7', '8', '9', ';', '<', '=', '>', '?', '@', '[', '\\\\', ']', '^', '_', '`', 'a', 'b', 'c', 'd', 'e', 'f', 'g', 'h', 'i', 'j', 'k', 'l', 'm', 'n', 'o', 'p', 'q', 'r', 's', 't', 'u', 'v', 'w', 'x', 'y', 'z', '{', '|', '}', '~', '¡', '¨', '«', '°', '±', '²', '³', '´', 'µ', '¶', '·', '¹', 'º', '¼', '½', '¾', '¿', '×', 'ß', 'à', 'á', 'â', 'ã', 'ä', 'å', 'æ', 'ç', 'í', 'î', 'ï', 'ð', 'ñ', 'ò', 'ó', 'ô', 'õ', 'ö', '÷', 'ù', 'ú', 'û', 'ü', 'ý', 'þ', 'ÿ', 'œ', 'ƒ', '—', '‚', '‡', '…', '‹', '›', '™']\n"
     ]
    }
   ],
   "source": [
    "all_columns = tfidf_features.columns.to_list()\n",
    "print(all_columns)"
   ]
  },
  {
   "cell_type": "markdown",
   "metadata": {},
   "source": [
    "## Per-Character Features"
   ]
  },
  {
   "cell_type": "markdown",
   "metadata": {},
   "source": [
    "---\n",
    "\n",
    "First of all we decided to cap the password string length to 30 as only a few outliers surpass this length and doing so help us to greatly reduce the number of features.\n",
    "\n",
    "With this kind of features our objective is to minimize the amount of information we lose in the convertion from string to data useful for machine learning. The first approach we tought of was to give to each position in the password its own column and insert the ASCII code of the corresponding value. While this could lead to a relatively low number of feature is has the disadvantage of inducing an arbitrary ordering of the data by converting categorical information into a sequence of numbers.\n",
    "\n",
    "To resolve this problem we decided to use a one-hot encoding of each possible character for each possible position, but that would lead to an eccessive number of features (more than 2200!). We finally decided to forego to maintain the exact character in a certain position and to instead divide them in families: lowercase, uppercase, number, symbol, empty. In this way we ended up with 120 features, a more manageable number.\n",
    "\n",
    "---"
   ]
  },
  {
   "cell_type": "code",
   "execution_count": 18,
   "metadata": {},
   "outputs": [
    {
     "data": {
      "text/html": [
       "<div>\n",
       "<style scoped>\n",
       "    .dataframe tbody tr th:only-of-type {\n",
       "        vertical-align: middle;\n",
       "    }\n",
       "\n",
       "    .dataframe tbody tr th {\n",
       "        vertical-align: top;\n",
       "    }\n",
       "\n",
       "    .dataframe thead th {\n",
       "        text-align: right;\n",
       "    }\n",
       "</style>\n",
       "<table border=\"1\" class=\"dataframe\">\n",
       "  <thead>\n",
       "    <tr style=\"text-align: right;\">\n",
       "      <th></th>\n",
       "      <th>0=empty</th>\n",
       "      <th>0=lowercase</th>\n",
       "      <th>0=number</th>\n",
       "      <th>0=symbol</th>\n",
       "      <th>0=uppercase</th>\n",
       "      <th>10=empty</th>\n",
       "      <th>10=lowercase</th>\n",
       "      <th>10=number</th>\n",
       "      <th>10=symbol</th>\n",
       "      <th>10=uppercase</th>\n",
       "      <th>...</th>\n",
       "      <th>8=empty</th>\n",
       "      <th>8=lowercase</th>\n",
       "      <th>8=number</th>\n",
       "      <th>8=symbol</th>\n",
       "      <th>8=uppercase</th>\n",
       "      <th>9=empty</th>\n",
       "      <th>9=lowercase</th>\n",
       "      <th>9=number</th>\n",
       "      <th>9=symbol</th>\n",
       "      <th>9=uppercase</th>\n",
       "    </tr>\n",
       "  </thead>\n",
       "  <tbody>\n",
       "    <tr>\n",
       "      <th>0</th>\n",
       "      <td>False</td>\n",
       "      <td>True</td>\n",
       "      <td>False</td>\n",
       "      <td>False</td>\n",
       "      <td>False</td>\n",
       "      <td>True</td>\n",
       "      <td>False</td>\n",
       "      <td>False</td>\n",
       "      <td>False</td>\n",
       "      <td>False</td>\n",
       "      <td>...</td>\n",
       "      <td>True</td>\n",
       "      <td>False</td>\n",
       "      <td>False</td>\n",
       "      <td>False</td>\n",
       "      <td>False</td>\n",
       "      <td>True</td>\n",
       "      <td>False</td>\n",
       "      <td>False</td>\n",
       "      <td>False</td>\n",
       "      <td>False</td>\n",
       "    </tr>\n",
       "    <tr>\n",
       "      <th>1</th>\n",
       "      <td>False</td>\n",
       "      <td>True</td>\n",
       "      <td>False</td>\n",
       "      <td>False</td>\n",
       "      <td>False</td>\n",
       "      <td>True</td>\n",
       "      <td>False</td>\n",
       "      <td>False</td>\n",
       "      <td>False</td>\n",
       "      <td>False</td>\n",
       "      <td>...</td>\n",
       "      <td>True</td>\n",
       "      <td>False</td>\n",
       "      <td>False</td>\n",
       "      <td>False</td>\n",
       "      <td>False</td>\n",
       "      <td>True</td>\n",
       "      <td>False</td>\n",
       "      <td>False</td>\n",
       "      <td>False</td>\n",
       "      <td>False</td>\n",
       "    </tr>\n",
       "    <tr>\n",
       "      <th>2</th>\n",
       "      <td>False</td>\n",
       "      <td>True</td>\n",
       "      <td>False</td>\n",
       "      <td>False</td>\n",
       "      <td>False</td>\n",
       "      <td>True</td>\n",
       "      <td>False</td>\n",
       "      <td>False</td>\n",
       "      <td>False</td>\n",
       "      <td>False</td>\n",
       "      <td>...</td>\n",
       "      <td>False</td>\n",
       "      <td>True</td>\n",
       "      <td>False</td>\n",
       "      <td>False</td>\n",
       "      <td>False</td>\n",
       "      <td>True</td>\n",
       "      <td>False</td>\n",
       "      <td>False</td>\n",
       "      <td>False</td>\n",
       "      <td>False</td>\n",
       "    </tr>\n",
       "    <tr>\n",
       "      <th>3</th>\n",
       "      <td>False</td>\n",
       "      <td>True</td>\n",
       "      <td>False</td>\n",
       "      <td>False</td>\n",
       "      <td>False</td>\n",
       "      <td>True</td>\n",
       "      <td>False</td>\n",
       "      <td>False</td>\n",
       "      <td>False</td>\n",
       "      <td>False</td>\n",
       "      <td>...</td>\n",
       "      <td>True</td>\n",
       "      <td>False</td>\n",
       "      <td>False</td>\n",
       "      <td>False</td>\n",
       "      <td>False</td>\n",
       "      <td>True</td>\n",
       "      <td>False</td>\n",
       "      <td>False</td>\n",
       "      <td>False</td>\n",
       "      <td>False</td>\n",
       "    </tr>\n",
       "    <tr>\n",
       "      <th>4</th>\n",
       "      <td>False</td>\n",
       "      <td>True</td>\n",
       "      <td>False</td>\n",
       "      <td>False</td>\n",
       "      <td>False</td>\n",
       "      <td>False</td>\n",
       "      <td>False</td>\n",
       "      <td>True</td>\n",
       "      <td>False</td>\n",
       "      <td>False</td>\n",
       "      <td>...</td>\n",
       "      <td>False</td>\n",
       "      <td>True</td>\n",
       "      <td>False</td>\n",
       "      <td>False</td>\n",
       "      <td>False</td>\n",
       "      <td>False</td>\n",
       "      <td>True</td>\n",
       "      <td>False</td>\n",
       "      <td>False</td>\n",
       "      <td>False</td>\n",
       "    </tr>\n",
       "    <tr>\n",
       "      <th>...</th>\n",
       "      <td>...</td>\n",
       "      <td>...</td>\n",
       "      <td>...</td>\n",
       "      <td>...</td>\n",
       "      <td>...</td>\n",
       "      <td>...</td>\n",
       "      <td>...</td>\n",
       "      <td>...</td>\n",
       "      <td>...</td>\n",
       "      <td>...</td>\n",
       "      <td>...</td>\n",
       "      <td>...</td>\n",
       "      <td>...</td>\n",
       "      <td>...</td>\n",
       "      <td>...</td>\n",
       "      <td>...</td>\n",
       "      <td>...</td>\n",
       "      <td>...</td>\n",
       "      <td>...</td>\n",
       "      <td>...</td>\n",
       "      <td>...</td>\n",
       "    </tr>\n",
       "    <tr>\n",
       "      <th>669801</th>\n",
       "      <td>False</td>\n",
       "      <td>False</td>\n",
       "      <td>True</td>\n",
       "      <td>False</td>\n",
       "      <td>False</td>\n",
       "      <td>True</td>\n",
       "      <td>False</td>\n",
       "      <td>False</td>\n",
       "      <td>False</td>\n",
       "      <td>False</td>\n",
       "      <td>...</td>\n",
       "      <td>False</td>\n",
       "      <td>False</td>\n",
       "      <td>True</td>\n",
       "      <td>False</td>\n",
       "      <td>False</td>\n",
       "      <td>False</td>\n",
       "      <td>False</td>\n",
       "      <td>True</td>\n",
       "      <td>False</td>\n",
       "      <td>False</td>\n",
       "    </tr>\n",
       "    <tr>\n",
       "      <th>669802</th>\n",
       "      <td>False</td>\n",
       "      <td>True</td>\n",
       "      <td>False</td>\n",
       "      <td>False</td>\n",
       "      <td>False</td>\n",
       "      <td>True</td>\n",
       "      <td>False</td>\n",
       "      <td>False</td>\n",
       "      <td>False</td>\n",
       "      <td>False</td>\n",
       "      <td>...</td>\n",
       "      <td>False</td>\n",
       "      <td>False</td>\n",
       "      <td>True</td>\n",
       "      <td>False</td>\n",
       "      <td>False</td>\n",
       "      <td>True</td>\n",
       "      <td>False</td>\n",
       "      <td>False</td>\n",
       "      <td>False</td>\n",
       "      <td>False</td>\n",
       "    </tr>\n",
       "    <tr>\n",
       "      <th>669803</th>\n",
       "      <td>False</td>\n",
       "      <td>False</td>\n",
       "      <td>True</td>\n",
       "      <td>False</td>\n",
       "      <td>False</td>\n",
       "      <td>False</td>\n",
       "      <td>True</td>\n",
       "      <td>False</td>\n",
       "      <td>False</td>\n",
       "      <td>False</td>\n",
       "      <td>...</td>\n",
       "      <td>False</td>\n",
       "      <td>True</td>\n",
       "      <td>False</td>\n",
       "      <td>False</td>\n",
       "      <td>False</td>\n",
       "      <td>False</td>\n",
       "      <td>True</td>\n",
       "      <td>False</td>\n",
       "      <td>False</td>\n",
       "      <td>False</td>\n",
       "    </tr>\n",
       "    <tr>\n",
       "      <th>669804</th>\n",
       "      <td>False</td>\n",
       "      <td>True</td>\n",
       "      <td>False</td>\n",
       "      <td>False</td>\n",
       "      <td>False</td>\n",
       "      <td>True</td>\n",
       "      <td>False</td>\n",
       "      <td>False</td>\n",
       "      <td>False</td>\n",
       "      <td>False</td>\n",
       "      <td>...</td>\n",
       "      <td>False</td>\n",
       "      <td>True</td>\n",
       "      <td>False</td>\n",
       "      <td>False</td>\n",
       "      <td>False</td>\n",
       "      <td>True</td>\n",
       "      <td>False</td>\n",
       "      <td>False</td>\n",
       "      <td>False</td>\n",
       "      <td>False</td>\n",
       "    </tr>\n",
       "    <tr>\n",
       "      <th>669805</th>\n",
       "      <td>False</td>\n",
       "      <td>True</td>\n",
       "      <td>False</td>\n",
       "      <td>False</td>\n",
       "      <td>False</td>\n",
       "      <td>True</td>\n",
       "      <td>False</td>\n",
       "      <td>False</td>\n",
       "      <td>False</td>\n",
       "      <td>False</td>\n",
       "      <td>...</td>\n",
       "      <td>True</td>\n",
       "      <td>False</td>\n",
       "      <td>False</td>\n",
       "      <td>False</td>\n",
       "      <td>False</td>\n",
       "      <td>True</td>\n",
       "      <td>False</td>\n",
       "      <td>False</td>\n",
       "      <td>False</td>\n",
       "      <td>False</td>\n",
       "    </tr>\n",
       "  </tbody>\n",
       "</table>\n",
       "<p>669806 rows × 150 columns</p>\n",
       "</div>"
      ],
      "text/plain": [
       "        0=empty  0=lowercase  0=number  0=symbol  0=uppercase  10=empty  \\\n",
       "0         False         True     False     False        False      True   \n",
       "1         False         True     False     False        False      True   \n",
       "2         False         True     False     False        False      True   \n",
       "3         False         True     False     False        False      True   \n",
       "4         False         True     False     False        False     False   \n",
       "...         ...          ...       ...       ...          ...       ...   \n",
       "669801    False        False      True     False        False      True   \n",
       "669802    False         True     False     False        False      True   \n",
       "669803    False        False      True     False        False     False   \n",
       "669804    False         True     False     False        False      True   \n",
       "669805    False         True     False     False        False      True   \n",
       "\n",
       "        10=lowercase  10=number  10=symbol  10=uppercase  ...  8=empty  \\\n",
       "0              False      False      False         False  ...     True   \n",
       "1              False      False      False         False  ...     True   \n",
       "2              False      False      False         False  ...    False   \n",
       "3              False      False      False         False  ...     True   \n",
       "4              False       True      False         False  ...    False   \n",
       "...              ...        ...        ...           ...  ...      ...   \n",
       "669801         False      False      False         False  ...    False   \n",
       "669802         False      False      False         False  ...    False   \n",
       "669803          True      False      False         False  ...    False   \n",
       "669804         False      False      False         False  ...    False   \n",
       "669805         False      False      False         False  ...     True   \n",
       "\n",
       "        8=lowercase  8=number  8=symbol  8=uppercase  9=empty  9=lowercase  \\\n",
       "0             False     False     False        False     True        False   \n",
       "1             False     False     False        False     True        False   \n",
       "2              True     False     False        False     True        False   \n",
       "3             False     False     False        False     True        False   \n",
       "4              True     False     False        False    False         True   \n",
       "...             ...       ...       ...          ...      ...          ...   \n",
       "669801        False      True     False        False    False        False   \n",
       "669802        False      True     False        False     True        False   \n",
       "669803         True     False     False        False    False         True   \n",
       "669804         True     False     False        False     True        False   \n",
       "669805        False     False     False        False     True        False   \n",
       "\n",
       "        9=number  9=symbol  9=uppercase  \n",
       "0          False     False        False  \n",
       "1          False     False        False  \n",
       "2          False     False        False  \n",
       "3          False     False        False  \n",
       "4          False     False        False  \n",
       "...          ...       ...          ...  \n",
       "669801      True     False        False  \n",
       "669802     False     False        False  \n",
       "669803     False     False        False  \n",
       "669804     False     False        False  \n",
       "669805     False     False        False  \n",
       "\n",
       "[669806 rows x 150 columns]"
      ]
     },
     "execution_count": 18,
     "metadata": {},
     "output_type": "execute_result"
    }
   ],
   "source": [
    "y_character_features = df[\"Strength\"]\n",
    "\n",
    "# we limit the password length to 30 to reduce the number of column\n",
    "# there are only a few outliers with more than 30 characters\n",
    "max_length = 30\n",
    "df['Password'] = df['Password'].str.slice(0, max_length)\n",
    "\n",
    "# creation of per-character dataframe, here we have a column for each position and the content of the\n",
    "# column is the character\n",
    "position_df = pd.DataFrame(df['Password'].apply(lambda row: list(row.ljust(max_length))).tolist())\n",
    "\n",
    "# to categorize characters we can use islower, isupper, isdigit, but we have to\n",
    "# explicitly elench all the symbols\n",
    "\n",
    "symbols = ['!', '\"', '#', '$', '%', '&', '(', ')', '*', '+', '-', '.', '/', ';', '<',\n",
    "           '=', '>', '?', '@', '[', '\\\\', ']', '^', '_', '`', '{', '|', '}', '~', '¡',\n",
    "           '¨', '«', '°', '±', '²', '³', '´', '¶', '·', '¹', '¼', '½', '¾', '¿', '×',\n",
    "           '÷', '—', '‚', '‡', '…', '‹', '›', '™']\n",
    "\n",
    "def categorize_character(char):\n",
    "    char = str(char)\n",
    "    \n",
    "    if char.islower():\n",
    "        return 'lowercase'\n",
    "    elif char.isupper():\n",
    "        return 'uppercase'\n",
    "    elif char.isdigit():\n",
    "        return 'number'\n",
    "    elif char in symbols:\n",
    "        return 'symbol'\n",
    "    else:\n",
    "        return 'empty' # meaning the password has ended\n",
    "\n",
    "# categorization of the values inside the dataframe, now we have a column for each position and\n",
    "# the content of the column is the category of the character\n",
    "x_character_features_v3 = position_df.apply(lambda row: row.map(lambda x: categorize_character(x)))\n",
    "\n",
    "# convert the previously obtained columns into one-hot encoding columns.\n",
    "# for each position we have five columns that contain \"1\" if the position's character\n",
    "# is of a certain category and \"0\" otherwise\n",
    "data = DictVectorizer(sparse=False, dtype=bool)\n",
    "x_character_features_v3 = pd.DataFrame(data.fit_transform(x_character_features_v3.to_dict(orient='records')),\n",
    "                                       columns = data.get_feature_names_out())\n",
    "\n",
    "x_character_features_v3"
   ]
  },
  {
   "cell_type": "markdown",
   "metadata": {},
   "source": [
    "# Models"
   ]
  },
  {
   "cell_type": "markdown",
   "metadata": {},
   "source": [
    "---\n",
    "\n",
    "Here we split the datasets into training, validation and test sets to be used later.\n",
    "\n",
    "---"
   ]
  },
  {
   "cell_type": "code",
   "execution_count": 19,
   "metadata": {},
   "outputs": [],
   "source": [
    "# STATISTICAL WITH LENGTH\n",
    "\n",
    "X, y = df_stat.drop(['Strength', 'Password'], axis=1), df_stat['Strength']\n",
    "\n",
    "# split the data into training and testing sets\n",
    "X_train_stat, X_test_stat, y_train_stat, y_test_stat = train_test_split(X, y, test_size=0.2, random_state=42)\n",
    "\n",
    "# further split the training data into training and validation sets\n",
    "X_train_stat, X_val_stat, y_train_stat, y_val_stat = train_test_split(X_train_stat, y_train_stat, test_size=0.2, random_state=42)"
   ]
  },
  {
   "cell_type": "code",
   "execution_count": 20,
   "metadata": {},
   "outputs": [],
   "source": [
    "# STATISTICAL W/O LENGTH\n",
    "\n",
    "X, y = df_stat.drop(['Strength', 'Password', \"length\", \"num_letters\", \"num_numbers\", \"uppercase_count\", \"lowercase_count\", \"entropy\"], axis=1), df_stat['Strength']\n",
    "\n",
    "# split the data into training and testing sets\n",
    "X_train_stat_nolength, X_test_stat_nolength, y_train_stat_nolength, y_test_stat_nolength = train_test_split(X, y, test_size=0.2, random_state=42)\n",
    "\n",
    "# further split the training data into training and validation sets\n",
    "X_train_stat_nolength, X_val_stat_nolength, y_train_stat_nolength, y_val_stat_nolength = train_test_split(X_train_stat_nolength, y_train_stat_nolength, test_size=0.2, random_state=42)"
   ]
  },
  {
   "cell_type": "code",
   "execution_count": 21,
   "metadata": {},
   "outputs": [],
   "source": [
    "# TF-IDF\n",
    "\n",
    "X, y = tfidf_features.drop([\"Password\", \"Strength\"], axis=1), tfidf_features[\"Strength\"]\n",
    "\n",
    "# split the data into training and testing sets\n",
    "X_train_TFIDF, X_test_TFIDF, y_train_TFIDF, y_test_TFIDF = train_test_split(X, y, test_size=0.2, random_state=42)\n",
    "\n",
    "# validation set\n",
    "X_train2_TFIDF, X_val_TFIDF, y_train2_TFIDF, y_val_TFIDF = train_test_split(X_train_TFIDF, y_train_TFIDF, test_size=0.2, random_state=42)"
   ]
  },
  {
   "cell_type": "code",
   "execution_count": 22,
   "metadata": {},
   "outputs": [],
   "source": [
    "# PER-CHARACTER\n",
    "\n",
    "# split the data into training and testing sets (e.g., 80% train, 20% test)\n",
    "X_train_CHAR, X_test_CHAR, y_train_CHAR, y_test_CHAR = train_test_split(x_character_features_v3, y_character_features, test_size=0.2, random_state=42)\n",
    "\n",
    "# further split the training set into training and validation sets (e.g., 80% train, 20% validation)\n",
    "X_train_CHAR, X_val_CHAR, y_train_CHAR, y_val_CHAR = train_test_split(X_train_CHAR, y_train_CHAR, test_size=0.2, random_state=42)"
   ]
  },
  {
   "cell_type": "markdown",
   "metadata": {},
   "source": [
    "## k-NN"
   ]
  },
  {
   "cell_type": "markdown",
   "metadata": {},
   "source": [
    "---\n",
    "\n",
    "To choose the best hyperparameter `n_neighbors` to use in our analysis, we evalueted different values of `n_neeighbors=k` and choose the one that performed better accuracy-wise in the model, for each dataset.\n",
    "\n",
    "---"
   ]
  },
  {
   "cell_type": "markdown",
   "metadata": {},
   "source": [
    "**TF-IDF**"
   ]
  },
  {
   "cell_type": "code",
   "execution_count": 76,
   "metadata": {},
   "outputs": [
    {
     "data": {
      "application/vnd.jupyter.widget-view+json": {
       "model_id": "6968d4ba58304860976247f91e766c58",
       "version_major": 2,
       "version_minor": 0
      },
      "text/plain": [
       "  0%|          | 0/9 [00:00<?, ?it/s]"
      ]
     },
     "metadata": {},
     "output_type": "display_data"
    },
    {
     "data": {
      "image/png": "[encoded data removed]",
      "text/plain": [
       "<Figure size 800x600 with 1 Axes>"
      ]
     },
     "metadata": {},
     "output_type": "display_data"
    }
   ],
   "source": [
    "# trying to understand which hyperparameter is the best\n",
    "\n",
    "scores_tf_idf = {}\n",
    "for n_n in tqdm(range(3, 36, 4)):\n",
    "    # instantiate the model: the k-NN classifier\n",
    "    model_knn = KNeighborsClassifier(n_neighbors=n_n)\n",
    "\n",
    "    # fit the model to our data\n",
    "    model_knn.fit(X_train2_TFIDF.values, y_train2_TFIDF)\n",
    "\n",
    "    # predict on new data\n",
    "    y_model = model_knn.predict(X_val_TFIDF.values)\n",
    "\n",
    "    scores_tf_idf[n_n] = accuracy_score(y_val_TFIDF, y_model)\n",
    "\n",
    "# plot the scores and the accuracy \n",
    "keys = list(scores_tf_idf.keys())\n",
    "values = list(scores_tf_idf.values())\n",
    "\n",
    "# find maximum value of accuracy and its corresponding k\n",
    "max_value_TFIDF = max(values)\n",
    "max_key_TFIDF = keys[values.index(max_value_TFIDF)]\n",
    "\n",
    "# Plotting the trend of the accuracy for different values of k\n",
    "plt.figure(figsize=(8,6))\n",
    "plt.scatter([key for key in keys if key != max_key_TFIDF], [val for val in values if val != max_value_TFIDF], color='blue', label='non-optimal values')\n",
    "plt.scatter(max_key_TFIDF, max_value_TFIDF, color='green', label=f'optimal value: k={max_key_TFIDF} with {(max_value_TFIDF*100).round(2)}% accuracy')\n",
    "plt.legend()\n",
    "plt.xlabel('Number of neighboors k')\n",
    "plt.ylabel('Accuracy')\n",
    "plt.title('Accuracy score for different k value TF-IDF features')\n",
    "plt.grid(True)\n",
    "plt.tight_layout()\n",
    "plt.show()"
   ]
  },
  {
   "cell_type": "code",
   "execution_count": 77,
   "metadata": {},
   "outputs": [
    {
     "data": {
      "image/png": "[encoded data removed]",
      "text/plain": [
       "<Figure size 640x480 with 2 Axes>"
      ]
     },
     "metadata": {},
     "output_type": "display_data"
    }
   ],
   "source": [
    "# instantiate the model: the k-NN classifier\n",
    "model_knn = KNeighborsClassifier(n_neighbors=max_key_TFIDF)\n",
    "\n",
    "# fit the model to our data\n",
    "model_knn.fit(X_train2_TFIDF.values, y_train2_TFIDF)\n",
    "\n",
    "# predict on new data\n",
    "y_model_TFIDF = model_knn.predict(X_test_TFIDF.values)\n",
    "\n",
    "# evaluating the model\n",
    "mat = confusion_matrix(y_test_TFIDF, y_model_TFIDF)\n",
    "\n",
    "# normalized confusion matrix\n",
    "normalized_mat = mat.astype('float') / mat.sum(axis=1)[:, np.newaxis]\n",
    "\n",
    "sns.heatmap(normalized_mat, square=True, annot=True, cbar=True)\n",
    "plt.title('Confusion Matrix for TF-IDF features on k-NN')\n",
    "plt.xlabel('Predicted value')\n",
    "plt.ylabel('True value')"
   ]
  },
  {
   "cell_type": "code",
   "execution_count": null,
   "metadata": {},
   "outputs": [
    {
     "name": "stdout",
     "output_type": "stream",
     "text": [
      "Accuracy:  0.7978456577238321\n",
      "Classification Report for TF-IDF features on k-NN:\n",
      "              precision    recall  f1-score   support\n",
      "\n",
      "           0       0.53      0.14      0.22     17959\n",
      "           1       0.81      0.96      0.88     99316\n",
      "           2       0.80      0.55      0.65     16687\n",
      "\n",
      "    accuracy                           0.80    133962\n",
      "   macro avg       0.71      0.55      0.58    133962\n",
      "weighted avg       0.77      0.80      0.76    133962\n",
      "\n"
     ]
    }
   ],
   "source": [
    "print(\"Accuracy: \", accuracy_score(y_test_TFIDF, y_model_TFIDF))\n",
    "\n",
    "# display classification report\n",
    "print(\"Classification Report for TF-IDF features on k-NN:\")\n",
    "print(classification_report(y_test_TFIDF, y_model_TFIDF))"
   ]
  },
  {
   "cell_type": "markdown",
   "metadata": {},
   "source": [
    "---\n",
    "\n",
    "**Comment:**\n",
    "\n",
    "An accuracy of $ 79.67\\% $ in classifying the password strenght via the TF-IDF features is only slightly better than the baseline and from the confusion matrix it's evident that the unbalnceness of the dataset towards the class #1 (*medium*), leads to errors during the prediction:\n",
    "- The class that obtained the higher True Positive percentage is the class #1, the most popular one;\n",
    "- Much more than half of the class #0 (*weak*), was wrongly predicted as class #1;\n",
    "- Almost half of the class #2 (*strong*) was wrongly predicted as class #1.\n",
    "\n",
    "This can be explained by the imbalance of the dataset, but we noticed this behavior only on this specific application of the k-NN on the TF-IDF features; probably because the TF-IDF approach on characters might capture some patterns, but password strength is a concept too complex for the k-NN algorithm. \n",
    "\n",
    "---"
   ]
  },
  {
   "cell_type": "markdown",
   "metadata": {},
   "source": [
    "**What happens to the performances if we balance the dataset?**"
   ]
  },
  {
   "cell_type": "code",
   "execution_count": 50,
   "metadata": {},
   "outputs": [
    {
     "data": {
      "text/html": [
       "<div>\n",
       "<style scoped>\n",
       "    .dataframe tbody tr th:only-of-type {\n",
       "        vertical-align: middle;\n",
       "    }\n",
       "\n",
       "    .dataframe tbody tr th {\n",
       "        vertical-align: top;\n",
       "    }\n",
       "\n",
       "    .dataframe thead th {\n",
       "        text-align: right;\n",
       "    }\n",
       "</style>\n",
       "<table border=\"1\" class=\"dataframe\">\n",
       "  <thead>\n",
       "    <tr style=\"text-align: right;\">\n",
       "      <th></th>\n",
       "      <th>Password</th>\n",
       "      <th>Strength</th>\n",
       "      <th></th>\n",
       "      <th>!</th>\n",
       "      <th>\"</th>\n",
       "      <th>#</th>\n",
       "      <th>$</th>\n",
       "      <th>%</th>\n",
       "      <th>&amp;</th>\n",
       "      <th>(</th>\n",
       "      <th>...</th>\n",
       "      <th>ÿ</th>\n",
       "      <th>œ</th>\n",
       "      <th>ƒ</th>\n",
       "      <th>—</th>\n",
       "      <th>‚</th>\n",
       "      <th>‡</th>\n",
       "      <th>…</th>\n",
       "      <th>‹</th>\n",
       "      <th>›</th>\n",
       "      <th>™</th>\n",
       "    </tr>\n",
       "  </thead>\n",
       "  <tbody>\n",
       "    <tr>\n",
       "      <th>0</th>\n",
       "      <td>river45</td>\n",
       "      <td>0</td>\n",
       "      <td>0.0</td>\n",
       "      <td>0.0</td>\n",
       "      <td>0.0</td>\n",
       "      <td>0.0</td>\n",
       "      <td>0.0</td>\n",
       "      <td>0.0</td>\n",
       "      <td>0.0</td>\n",
       "      <td>0.0</td>\n",
       "      <td>...</td>\n",
       "      <td>0.0</td>\n",
       "      <td>0.0</td>\n",
       "      <td>0.0</td>\n",
       "      <td>0.0</td>\n",
       "      <td>0.0</td>\n",
       "      <td>0.0</td>\n",
       "      <td>0.0</td>\n",
       "      <td>0.0</td>\n",
       "      <td>0.0</td>\n",
       "      <td>0.0</td>\n",
       "    </tr>\n",
       "    <tr>\n",
       "      <th>1</th>\n",
       "      <td>preko0</td>\n",
       "      <td>0</td>\n",
       "      <td>0.0</td>\n",
       "      <td>0.0</td>\n",
       "      <td>0.0</td>\n",
       "      <td>0.0</td>\n",
       "      <td>0.0</td>\n",
       "      <td>0.0</td>\n",
       "      <td>0.0</td>\n",
       "      <td>0.0</td>\n",
       "      <td>...</td>\n",
       "      <td>0.0</td>\n",
       "      <td>0.0</td>\n",
       "      <td>0.0</td>\n",
       "      <td>0.0</td>\n",
       "      <td>0.0</td>\n",
       "      <td>0.0</td>\n",
       "      <td>0.0</td>\n",
       "      <td>0.0</td>\n",
       "      <td>0.0</td>\n",
       "      <td>0.0</td>\n",
       "    </tr>\n",
       "    <tr>\n",
       "      <th>2</th>\n",
       "      <td>4zvuh8e</td>\n",
       "      <td>0</td>\n",
       "      <td>0.0</td>\n",
       "      <td>0.0</td>\n",
       "      <td>0.0</td>\n",
       "      <td>0.0</td>\n",
       "      <td>0.0</td>\n",
       "      <td>0.0</td>\n",
       "      <td>0.0</td>\n",
       "      <td>0.0</td>\n",
       "      <td>...</td>\n",
       "      <td>0.0</td>\n",
       "      <td>0.0</td>\n",
       "      <td>0.0</td>\n",
       "      <td>0.0</td>\n",
       "      <td>0.0</td>\n",
       "      <td>0.0</td>\n",
       "      <td>0.0</td>\n",
       "      <td>0.0</td>\n",
       "      <td>0.0</td>\n",
       "      <td>0.0</td>\n",
       "    </tr>\n",
       "    <tr>\n",
       "      <th>3</th>\n",
       "      <td>web440</td>\n",
       "      <td>0</td>\n",
       "      <td>0.0</td>\n",
       "      <td>0.0</td>\n",
       "      <td>0.0</td>\n",
       "      <td>0.0</td>\n",
       "      <td>0.0</td>\n",
       "      <td>0.0</td>\n",
       "      <td>0.0</td>\n",
       "      <td>0.0</td>\n",
       "      <td>...</td>\n",
       "      <td>0.0</td>\n",
       "      <td>0.0</td>\n",
       "      <td>0.0</td>\n",
       "      <td>0.0</td>\n",
       "      <td>0.0</td>\n",
       "      <td>0.0</td>\n",
       "      <td>0.0</td>\n",
       "      <td>0.0</td>\n",
       "      <td>0.0</td>\n",
       "      <td>0.0</td>\n",
       "    </tr>\n",
       "    <tr>\n",
       "      <th>4</th>\n",
       "      <td>mh2008</td>\n",
       "      <td>0</td>\n",
       "      <td>0.0</td>\n",
       "      <td>0.0</td>\n",
       "      <td>0.0</td>\n",
       "      <td>0.0</td>\n",
       "      <td>0.0</td>\n",
       "      <td>0.0</td>\n",
       "      <td>0.0</td>\n",
       "      <td>0.0</td>\n",
       "      <td>...</td>\n",
       "      <td>0.0</td>\n",
       "      <td>0.0</td>\n",
       "      <td>0.0</td>\n",
       "      <td>0.0</td>\n",
       "      <td>0.0</td>\n",
       "      <td>0.0</td>\n",
       "      <td>0.0</td>\n",
       "      <td>0.0</td>\n",
       "      <td>0.0</td>\n",
       "      <td>0.0</td>\n",
       "    </tr>\n",
       "    <tr>\n",
       "      <th>...</th>\n",
       "      <td>...</td>\n",
       "      <td>...</td>\n",
       "      <td>...</td>\n",
       "      <td>...</td>\n",
       "      <td>...</td>\n",
       "      <td>...</td>\n",
       "      <td>...</td>\n",
       "      <td>...</td>\n",
       "      <td>...</td>\n",
       "      <td>...</td>\n",
       "      <td>...</td>\n",
       "      <td>...</td>\n",
       "      <td>...</td>\n",
       "      <td>...</td>\n",
       "      <td>...</td>\n",
       "      <td>...</td>\n",
       "      <td>...</td>\n",
       "      <td>...</td>\n",
       "      <td>...</td>\n",
       "      <td>...</td>\n",
       "      <td>...</td>\n",
       "    </tr>\n",
       "    <tr>\n",
       "      <th>250003</th>\n",
       "      <td>jose_alda_1305</td>\n",
       "      <td>2</td>\n",
       "      <td>0.0</td>\n",
       "      <td>0.0</td>\n",
       "      <td>0.0</td>\n",
       "      <td>0.0</td>\n",
       "      <td>0.0</td>\n",
       "      <td>0.0</td>\n",
       "      <td>0.0</td>\n",
       "      <td>0.0</td>\n",
       "      <td>...</td>\n",
       "      <td>0.0</td>\n",
       "      <td>0.0</td>\n",
       "      <td>0.0</td>\n",
       "      <td>0.0</td>\n",
       "      <td>0.0</td>\n",
       "      <td>0.0</td>\n",
       "      <td>0.0</td>\n",
       "      <td>0.0</td>\n",
       "      <td>0.0</td>\n",
       "      <td>0.0</td>\n",
       "    </tr>\n",
       "    <tr>\n",
       "      <th>250004</th>\n",
       "      <td>9925633398@mike</td>\n",
       "      <td>2</td>\n",
       "      <td>0.0</td>\n",
       "      <td>0.0</td>\n",
       "      <td>0.0</td>\n",
       "      <td>0.0</td>\n",
       "      <td>0.0</td>\n",
       "      <td>0.0</td>\n",
       "      <td>0.0</td>\n",
       "      <td>0.0</td>\n",
       "      <td>...</td>\n",
       "      <td>0.0</td>\n",
       "      <td>0.0</td>\n",
       "      <td>0.0</td>\n",
       "      <td>0.0</td>\n",
       "      <td>0.0</td>\n",
       "      <td>0.0</td>\n",
       "      <td>0.0</td>\n",
       "      <td>0.0</td>\n",
       "      <td>0.0</td>\n",
       "      <td>0.0</td>\n",
       "    </tr>\n",
       "    <tr>\n",
       "      <th>250005</th>\n",
       "      <td>730NiRaZetoGaK</td>\n",
       "      <td>2</td>\n",
       "      <td>0.0</td>\n",
       "      <td>0.0</td>\n",
       "      <td>0.0</td>\n",
       "      <td>0.0</td>\n",
       "      <td>0.0</td>\n",
       "      <td>0.0</td>\n",
       "      <td>0.0</td>\n",
       "      <td>0.0</td>\n",
       "      <td>...</td>\n",
       "      <td>0.0</td>\n",
       "      <td>0.0</td>\n",
       "      <td>0.0</td>\n",
       "      <td>0.0</td>\n",
       "      <td>0.0</td>\n",
       "      <td>0.0</td>\n",
       "      <td>0.0</td>\n",
       "      <td>0.0</td>\n",
       "      <td>0.0</td>\n",
       "      <td>0.0</td>\n",
       "    </tr>\n",
       "    <tr>\n",
       "      <th>250006</th>\n",
       "      <td>107FIMAJyMoBuSa</td>\n",
       "      <td>2</td>\n",
       "      <td>0.0</td>\n",
       "      <td>0.0</td>\n",
       "      <td>0.0</td>\n",
       "      <td>0.0</td>\n",
       "      <td>0.0</td>\n",
       "      <td>0.0</td>\n",
       "      <td>0.0</td>\n",
       "      <td>0.0</td>\n",
       "      <td>...</td>\n",
       "      <td>0.0</td>\n",
       "      <td>0.0</td>\n",
       "      <td>0.0</td>\n",
       "      <td>0.0</td>\n",
       "      <td>0.0</td>\n",
       "      <td>0.0</td>\n",
       "      <td>0.0</td>\n",
       "      <td>0.0</td>\n",
       "      <td>0.0</td>\n",
       "      <td>0.0</td>\n",
       "    </tr>\n",
       "    <tr>\n",
       "      <th>250007</th>\n",
       "      <td>BVlg5vjkwNgWeNm1</td>\n",
       "      <td>2</td>\n",
       "      <td>0.0</td>\n",
       "      <td>0.0</td>\n",
       "      <td>0.0</td>\n",
       "      <td>0.0</td>\n",
       "      <td>0.0</td>\n",
       "      <td>0.0</td>\n",
       "      <td>0.0</td>\n",
       "      <td>0.0</td>\n",
       "      <td>...</td>\n",
       "      <td>0.0</td>\n",
       "      <td>0.0</td>\n",
       "      <td>0.0</td>\n",
       "      <td>0.0</td>\n",
       "      <td>0.0</td>\n",
       "      <td>0.0</td>\n",
       "      <td>0.0</td>\n",
       "      <td>0.0</td>\n",
       "      <td>0.0</td>\n",
       "      <td>0.0</td>\n",
       "    </tr>\n",
       "  </tbody>\n",
       "</table>\n",
       "<p>250008 rows × 122 columns</p>\n",
       "</div>"
      ],
      "text/plain": [
       "                Password  Strength         !    \"    #    $    %    &    (  \\\n",
       "0                river45         0  0.0  0.0  0.0  0.0  0.0  0.0  0.0  0.0   \n",
       "1                 preko0         0  0.0  0.0  0.0  0.0  0.0  0.0  0.0  0.0   \n",
       "2                4zvuh8e         0  0.0  0.0  0.0  0.0  0.0  0.0  0.0  0.0   \n",
       "3                 web440         0  0.0  0.0  0.0  0.0  0.0  0.0  0.0  0.0   \n",
       "4                 mh2008         0  0.0  0.0  0.0  0.0  0.0  0.0  0.0  0.0   \n",
       "...                  ...       ...  ...  ...  ...  ...  ...  ...  ...  ...   \n",
       "250003    jose_alda_1305         2  0.0  0.0  0.0  0.0  0.0  0.0  0.0  0.0   \n",
       "250004   9925633398@mike         2  0.0  0.0  0.0  0.0  0.0  0.0  0.0  0.0   \n",
       "250005    730NiRaZetoGaK         2  0.0  0.0  0.0  0.0  0.0  0.0  0.0  0.0   \n",
       "250006   107FIMAJyMoBuSa         2  0.0  0.0  0.0  0.0  0.0  0.0  0.0  0.0   \n",
       "250007  BVlg5vjkwNgWeNm1         2  0.0  0.0  0.0  0.0  0.0  0.0  0.0  0.0   \n",
       "\n",
       "        ...    ÿ    œ    ƒ    —    ‚    ‡    …    ‹    ›    ™  \n",
       "0       ...  0.0  0.0  0.0  0.0  0.0  0.0  0.0  0.0  0.0  0.0  \n",
       "1       ...  0.0  0.0  0.0  0.0  0.0  0.0  0.0  0.0  0.0  0.0  \n",
       "2       ...  0.0  0.0  0.0  0.0  0.0  0.0  0.0  0.0  0.0  0.0  \n",
       "3       ...  0.0  0.0  0.0  0.0  0.0  0.0  0.0  0.0  0.0  0.0  \n",
       "4       ...  0.0  0.0  0.0  0.0  0.0  0.0  0.0  0.0  0.0  0.0  \n",
       "...     ...  ...  ...  ...  ...  ...  ...  ...  ...  ...  ...  \n",
       "250003  ...  0.0  0.0  0.0  0.0  0.0  0.0  0.0  0.0  0.0  0.0  \n",
       "250004  ...  0.0  0.0  0.0  0.0  0.0  0.0  0.0  0.0  0.0  0.0  \n",
       "250005  ...  0.0  0.0  0.0  0.0  0.0  0.0  0.0  0.0  0.0  0.0  \n",
       "250006  ...  0.0  0.0  0.0  0.0  0.0  0.0  0.0  0.0  0.0  0.0  \n",
       "250007  ...  0.0  0.0  0.0  0.0  0.0  0.0  0.0  0.0  0.0  0.0  \n",
       "\n",
       "[250008 rows x 122 columns]"
      ]
     },
     "execution_count": 50,
     "metadata": {},
     "output_type": "execute_result"
    }
   ],
   "source": [
    "min_num_samples = min(tfidf_features[tfidf_features[\"Strength\"] == 0].shape[0], tfidf_features[tfidf_features[\"Strength\"] == 1].shape[0], tfidf_features[tfidf_features[\"Strength\"] == 2].shape[0])\n",
    "\n",
    "# sample the rows from each group to match the size of the smallest class\n",
    "balanced_tfidf_features = tfidf_features.groupby('Strength').apply(lambda x: x.sample(min_num_samples)).reset_index(drop=True)\n",
    "balanced_tfidf_features"
   ]
  },
  {
   "cell_type": "code",
   "execution_count": 53,
   "metadata": {},
   "outputs": [],
   "source": [
    "X, y = balanced_tfidf_features.drop([\"Password\", \"Strength\"], axis=1), balanced_tfidf_features[\"Strength\"]\n",
    "\n",
    "# split the data into training and testing sets\n",
    "X_train_balanced_TFIDF, X_test_balanced_TFIDF, y_train_balanced_TFIDF, y_test_balanced_TFIDF = train_test_split(X, y, test_size=0.2, random_state=42)\n",
    "\n",
    "# validation set\n",
    "X_train2_balanced_TFIDF, X_val_balanced_TFIDF, y_train2_balanced_TFIDF, y_val_balanced_TFIDF = train_test_split(X_train_balanced_TFIDF, y_train_balanced_TFIDF, test_size=0.2, random_state=42)"
   ]
  },
  {
   "cell_type": "code",
   "execution_count": 58,
   "metadata": {},
   "outputs": [
    {
     "data": {
      "application/vnd.jupyter.widget-view+json": {
       "model_id": "e451a15ea6d446c5a2e6af19970adba9",
       "version_major": 2,
       "version_minor": 0
      },
      "text/plain": [
       "  0%|          | 0/9 [00:00<?, ?it/s]"
      ]
     },
     "metadata": {},
     "output_type": "display_data"
    },
    {
     "data": {
      "image/png": "[encoded data removed]",
      "text/plain": [
       "<Figure size 800x600 with 1 Axes>"
      ]
     },
     "metadata": {},
     "output_type": "display_data"
    }
   ],
   "source": [
    "# trying to understand which hyperparameter is the best\n",
    "\n",
    "scores_tf_idf = {}\n",
    "for n_n in tqdm(range(3, 36, 4)):\n",
    "    # instantiate the model: the k-NN classifier\n",
    "    model_knn = KNeighborsClassifier(n_neighbors=n_n)\n",
    "\n",
    "    # fit the model to our data\n",
    "    model_knn.fit(X_train2_balanced_TFIDF.values, y_train2_balanced_TFIDF)\n",
    "\n",
    "    # predict on new data\n",
    "    y_model = model_knn.predict(X_val_balanced_TFIDF.values)\n",
    "\n",
    "    scores_tf_idf[n_n] = accuracy_score(y_val_balanced_TFIDF, y_model)\n",
    "\n",
    "# plot the scores and the accuracy \n",
    "keys = list(scores_tf_idf.keys())\n",
    "values = list(scores_tf_idf.values())\n",
    "\n",
    "# find maximum value of accuracy and its corresponding k\n",
    "max_value_balanced_TFIDF = max(values)\n",
    "max_key_balanced_TFIDF = keys[values.index(max_value_balanced_TFIDF)]\n",
    "\n",
    "# Plotting the trend of the accuracy for different values of k\n",
    "plt.figure(figsize=(8,6))\n",
    "plt.scatter([key for key in keys if key != max_key_balanced_TFIDF], [val for val in values if val != max_value_balanced_TFIDF], color='blue', label='non-optimal values')\n",
    "plt.scatter(max_key_balanced_TFIDF, max_value_balanced_TFIDF, color='green', label=f'optimal value: k={max_key_balanced_TFIDF} with {(max_value_balanced_TFIDF*100).round(2)}% accuracy')\n",
    "plt.legend()\n",
    "plt.xlabel('Number of neighboors k')\n",
    "plt.ylabel('Accuracy')\n",
    "plt.title('Accuracy score for different k value TF-IDF features')\n",
    "plt.grid(True)\n",
    "plt.tight_layout()\n",
    "plt.show()"
   ]
  },
  {
   "cell_type": "code",
   "execution_count": 60,
   "metadata": {},
   "outputs": [
    {
     "data": {
      "image/png": "[encoded data removed]",
      "text/plain": [
       "<Figure size 640x480 with 2 Axes>"
      ]
     },
     "metadata": {},
     "output_type": "display_data"
    }
   ],
   "source": [
    "# instantiate the model: the k-NN classifier\n",
    "model_knn = KNeighborsClassifier(n_neighbors=max_key_balanced_TFIDF)\n",
    "\n",
    "# fit the model to our data\n",
    "model_knn.fit(X_train2_balanced_TFIDF.values, y_train2_balanced_TFIDF)\n",
    "\n",
    "# predict on new data\n",
    "y_model_balanced_TFIDF = model_knn.predict(X_test_balanced_TFIDF.values)\n",
    "\n",
    "# evaluating the model\n",
    "mat = confusion_matrix(y_test_balanced_TFIDF, y_model_balanced_TFIDF)\n",
    "\n",
    "# normalized confusion matrix\n",
    "normalized_mat = mat.astype('float') / mat.sum(axis=1)[:, np.newaxis]\n",
    "\n",
    "sns.heatmap(normalized_mat, square=True, annot=True, cbar=True)\n",
    "plt.title('Confusion Matrix for TF-IDF features on k-NN')\n",
    "plt.xlabel('Predicted value')\n",
    "plt.ylabel('True value');"
   ]
  },
  {
   "cell_type": "code",
   "execution_count": 61,
   "metadata": {},
   "outputs": [
    {
     "name": "stdout",
     "output_type": "stream",
     "text": [
      "Accuracy:  0.7053917843286268\n",
      "Classification Report for TF-IDF features on k-NN:\n",
      "              precision    recall  f1-score   support\n",
      "\n",
      "           0       0.63      0.83      0.72     16627\n",
      "           1       0.70      0.46      0.55     16480\n",
      "           2       0.81      0.82      0.81     16895\n",
      "\n",
      "    accuracy                           0.71     50002\n",
      "   macro avg       0.71      0.70      0.69     50002\n",
      "weighted avg       0.71      0.71      0.70     50002\n",
      "\n"
     ]
    }
   ],
   "source": [
    "print(\"Accuracy: \", accuracy_score(y_test_balanced_TFIDF, y_model_balanced_TFIDF))\n",
    "\n",
    "# display classification report\n",
    "print(\"Classification Report for TF-IDF features on k-NN:\")\n",
    "print(classification_report(y_test_balanced_TFIDF, y_model_balanced_TFIDF))"
   ]
  },
  {
   "cell_type": "markdown",
   "metadata": {},
   "source": [
    "---\n",
    "\n",
    "Accuracy over class \"0\" and \"2\" greatly increased but overall accuracy decreased to 70%. Given that in this case the baseline is 33% this result is still significative.\n",
    "\n",
    "---"
   ]
  },
  {
   "cell_type": "markdown",
   "metadata": {},
   "source": [
    "**STATISTICAL WITH LENGTH**"
   ]
  },
  {
   "cell_type": "code",
   "execution_count": 62,
   "metadata": {},
   "outputs": [
    {
     "data": {
      "application/vnd.jupyter.widget-view+json": {
       "model_id": "bd4c4f408e04488790cba708711cb1fe",
       "version_major": 2,
       "version_minor": 0
      },
      "text/plain": [
       "  0%|          | 0/9 [00:00<?, ?it/s]"
      ]
     },
     "metadata": {},
     "output_type": "display_data"
    },
    {
     "data": {
      "image/png": "[encoded data removed]",
      "text/plain": [
       "<Figure size 800x600 with 1 Axes>"
      ]
     },
     "metadata": {},
     "output_type": "display_data"
    }
   ],
   "source": [
    "# trying to understand which hyperparameter is the best\n",
    "scores_stat = {}\n",
    "for n_n in tqdm(range(3, 36, 4)):\n",
    "    # instantiate the model: the k-NN classifier\n",
    "    model_knn = KNeighborsClassifier(n_neighbors=n_n)\n",
    "\n",
    "    # fit the model to our data\n",
    "    model_knn.fit(X_train_stat.values, y_train_stat)\n",
    "\n",
    "    # predict on new data\n",
    "    y_model = model_knn.predict(X_val_stat.values)\n",
    "\n",
    "    scores_stat[n_n] = accuracy_score(y_val_stat, y_model)\n",
    "\n",
    "# plot the scores and the accuracy \n",
    "keys = list(scores_stat.keys())\n",
    "values = list(scores_stat.values())\n",
    "\n",
    "# find maximum value of accuracy and its corresponding k\n",
    "max_value_stat = max(values)\n",
    "max_key_stat = keys[values.index(max_value_stat)]\n",
    "\n",
    "# plotting the trend of the accuracy for different values of k\n",
    "plt.figure(figsize=(8,6))\n",
    "plt.scatter([key for key in keys if key != max_key_stat], [val for val in values if val != max_value_stat], color='blue', label='non-optimal values')\n",
    "plt.scatter(max_key_stat, max_value_stat, color='green', label=f'optimal value: k={max_key_stat} with {(max_value_stat*100).round(2)}% accuracy')\n",
    "plt.legend()\n",
    "plt.xlabel('Number of neighbors k')\n",
    "plt.ylabel('Accuracy')\n",
    "plt.title('Accuracy score for different k value STAT features')\n",
    "plt.grid(True)\n",
    "plt.tight_layout()\n",
    "plt.show()"
   ]
  },
  {
   "cell_type": "code",
   "execution_count": 65,
   "metadata": {},
   "outputs": [
    {
     "data": {
      "image/png": "[encoded data removed]",
      "text/plain": [
       "<Figure size 640x480 with 2 Axes>"
      ]
     },
     "metadata": {},
     "output_type": "display_data"
    }
   ],
   "source": [
    "# instantiate the model: the k-NN classifier\n",
    "model_knn = KNeighborsClassifier(n_neighbors=max_key_stat)\n",
    "\n",
    "# fit the model to our data\n",
    "model_knn.fit(X_train_stat.values, y_train_stat)\n",
    "\n",
    "# predict on new data\n",
    "y_model_stat = model_knn.predict(X_test_stat.values)\n",
    "\n",
    "# evaluating the model\n",
    "mat = confusion_matrix(y_test_stat, y_model_stat)\n",
    "\n",
    "# normalized confusion matrix\n",
    "normalized_mat = mat.astype('float') / mat.sum(axis=1)[:, np.newaxis]\n",
    "\n",
    "sns.heatmap(normalized_mat, square=True, annot=True, cbar=True)\n",
    "plt.title('Confusion Matrix for STAT features on k-NN')\n",
    "plt.xlabel('Predicted value')\n",
    "plt.ylabel('True value');"
   ]
  },
  {
   "cell_type": "code",
   "execution_count": 66,
   "metadata": {},
   "outputs": [
    {
     "name": "stdout",
     "output_type": "stream",
     "text": [
      "Accuracy:  0.9995371821859931\n",
      "Classification Report for STAT features on k-NN:\n",
      "              precision    recall  f1-score   support\n",
      "\n",
      "           0       1.00      1.00      1.00     17959\n",
      "           1       1.00      1.00      1.00     99316\n",
      "           2       1.00      1.00      1.00     16687\n",
      "\n",
      "    accuracy                           1.00    133962\n",
      "   macro avg       1.00      1.00      1.00    133962\n",
      "weighted avg       1.00      1.00      1.00    133962\n",
      "\n"
     ]
    }
   ],
   "source": [
    "print(\"Accuracy: \", accuracy_score(y_test_stat, y_model_stat))\n",
    "\n",
    "# display classification report\n",
    "print(\"Classification Report for STAT features on k-NN:\")\n",
    "print(classification_report(y_test_stat, y_model_stat))"
   ]
  },
  {
   "cell_type": "markdown",
   "metadata": {},
   "source": [
    "**STATISTICAL W/O LENGTH**"
   ]
  },
  {
   "cell_type": "code",
   "execution_count": 68,
   "metadata": {},
   "outputs": [
    {
     "data": {
      "application/vnd.jupyter.widget-view+json": {
       "model_id": "69b10828d901458aba02b01dee2c9c21",
       "version_major": 2,
       "version_minor": 0
      },
      "text/plain": [
       "  0%|          | 0/9 [00:00<?, ?it/s]"
      ]
     },
     "metadata": {},
     "output_type": "display_data"
    },
    {
     "data": {
      "image/png": "[encoded data removed]",
      "text/plain": [
       "<Figure size 800x600 with 1 Axes>"
      ]
     },
     "metadata": {},
     "output_type": "display_data"
    }
   ],
   "source": [
    "# trying to understand which hyperparameter is the best\n",
    "scores_stat = {}\n",
    "for n_n in tqdm(range(3, 36, 4)):\n",
    "    # instantiate the model: the k-NN classifier\n",
    "    model_knn = KNeighborsClassifier(n_neighbors=n_n)\n",
    "\n",
    "    # fit the model to our data\n",
    "    model_knn.fit(X_train_stat_nolength.values, y_train_stat_nolength)\n",
    "\n",
    "    # predict on new data\n",
    "    y_model = model_knn.predict(X_val_stat_nolength.values)\n",
    "\n",
    "    scores_stat[n_n] = accuracy_score(y_val_stat_nolength, y_model)\n",
    "\n",
    "# plot the scores and the accuracy \n",
    "keys = list(scores_stat.keys())\n",
    "values = list(scores_stat.values())\n",
    "\n",
    "# find maximum value of accuracy and its corresponding k\n",
    "max_value_stat_nolength = max(values)\n",
    "max_key_stat_nolength = keys[values.index(max_value_stat_nolength)]\n",
    "\n",
    "# plotting the trend of the accuracy for different values of k\n",
    "plt.figure(figsize=(8,6))\n",
    "plt.scatter([key for key in keys if key != max_key_stat_nolength], [val for val in values if val != max_value_stat_nolength], color='blue', label='non-optimal values')\n",
    "plt.scatter(max_key_stat_nolength, max_value_stat_nolength, color='green', label=f'optimal value: k={max_key_stat_nolength} with {(max_value_stat_nolength*100).round(2)}% accuracy')\n",
    "plt.legend()\n",
    "plt.xlabel('Number of neighbors k')\n",
    "plt.ylabel('Accuracy')\n",
    "plt.title('Accuracy score for different k value STAT (w/0 length) features')\n",
    "plt.grid(True)\n",
    "plt.tight_layout()\n",
    "plt.show()"
   ]
  },
  {
   "cell_type": "code",
   "execution_count": 69,
   "metadata": {},
   "outputs": [
    {
     "data": {
      "image/png": "[encoded data removed]",
      "text/plain": [
       "<Figure size 640x480 with 2 Axes>"
      ]
     },
     "metadata": {},
     "output_type": "display_data"
    }
   ],
   "source": [
    "# instantiate the model: the k-NN classifier\n",
    "model_knn = KNeighborsClassifier(n_neighbors=max_key_stat_nolength)\n",
    "\n",
    "# fit the model to our data\n",
    "model_knn.fit(X_train_stat_nolength.values, y_train_stat_nolength)\n",
    "\n",
    "# predict on new data\n",
    "y_model_stat_nolength = model_knn.predict(X_test_stat_nolength.values)\n",
    "\n",
    "# evaluating the model\n",
    "mat = confusion_matrix(y_test_stat_nolength, y_model_stat_nolength)\n",
    "\n",
    "# normalized confusion matrix\n",
    "normalized_mat = mat.astype('float') / mat.sum(axis=1)[:, np.newaxis]\n",
    "\n",
    "sns.heatmap(normalized_mat, square=True, annot=True, cbar=True)\n",
    "plt.title('Confusion Matrix for STAT features (w/o length) on k-NN')\n",
    "plt.xlabel('Predicted value')\n",
    "plt.ylabel('True value');"
   ]
  },
  {
   "cell_type": "code",
   "execution_count": 72,
   "metadata": {},
   "outputs": [
    {
     "name": "stdout",
     "output_type": "stream",
     "text": [
      "Accuracy score of the STAT features (w/o length) k = 3: 0.9581075230289187\n",
      "Classification Report for CHAR features on k-NN:\n",
      "              precision    recall  f1-score   support\n",
      "\n",
      "           0       0.96      0.73      0.83     17959\n",
      "           1       0.95      0.99      0.97     99316\n",
      "           2       0.99      1.00      0.99     16687\n",
      "\n",
      "    accuracy                           0.96    133962\n",
      "   macro avg       0.97      0.91      0.93    133962\n",
      "weighted avg       0.96      0.96      0.96    133962\n",
      "\n"
     ]
    }
   ],
   "source": [
    "print(f'Accuracy score of the STAT features (w/o length) k = 35: {accuracy_score(y_test_stat_nolength, y_model_stat_nolength)}')\n",
    "\n",
    "# display classification report\n",
    "print(\"Classification Report for CHAR features on k-NN:\")\n",
    "print(classification_report(y_test_stat_nolength, y_model_stat_nolength))"
   ]
  },
  {
   "cell_type": "markdown",
   "metadata": {},
   "source": [
    "**PER-CHARACTER**"
   ]
  },
  {
   "cell_type": "markdown",
   "metadata": {},
   "source": [
    "---\n",
    "\n",
    "Since the execution of the hyperparameter tuning on this features is too slow we'll just apply two values of k, the best ones for the previous prediction on other features, and see which is best.\n",
    "\n",
    "---"
   ]
  },
  {
   "cell_type": "code",
   "execution_count": 76,
   "metadata": {},
   "outputs": [
    {
     "data": {
      "image/png": "[encoded data removed]",
      "text/plain": [
       "<Figure size 640x480 with 2 Axes>"
      ]
     },
     "metadata": {},
     "output_type": "display_data"
    }
   ],
   "source": [
    "# instantiate the model: the k-NN classifier with k=3\n",
    "model_knn = KNeighborsClassifier(n_neighbors=max_key_stat) # n_neighbors = 3\n",
    "\n",
    "# fit the model to our data\n",
    "model_knn.fit(X_train_CHAR.values, y_train_CHAR)\n",
    "\n",
    "# predict on new data\n",
    "y_model_char = model_knn.predict(X_test_CHAR.values)\n",
    "\n",
    "# evaluating the model\n",
    "mat = confusion_matrix(y_test_CHAR, y_model_char)\n",
    "\n",
    "# normalized confusion matrix\n",
    "normalized_mat = mat.astype('float') / mat.sum(axis=1)[:, np.newaxis]\n",
    "\n",
    "sns.heatmap(normalized_mat, square=True, annot=True, cbar=True)\n",
    "plt.title('Confusion Matrix for CHAR features on k-NN, with k=3')\n",
    "plt.xlabel('Predicted value')\n",
    "plt.ylabel('True value');"
   ]
  },
  {
   "cell_type": "code",
   "execution_count": 77,
   "metadata": {},
   "outputs": [
    {
     "name": "stdout",
     "output_type": "stream",
     "text": [
      "Accuracy score of the CHAR features with k = 3: 0.9989175974395581\n",
      "Classification Report for CHAR features on k-NN:\n",
      "              precision    recall  f1-score   support\n",
      "\n",
      "           0       1.00      1.00      1.00     17959\n",
      "           1       1.00      1.00      1.00     99316\n",
      "           2       1.00      0.99      1.00     16687\n",
      "\n",
      "    accuracy                           1.00    133962\n",
      "   macro avg       1.00      1.00      1.00    133962\n",
      "weighted avg       1.00      1.00      1.00    133962\n",
      "\n"
     ]
    }
   ],
   "source": [
    "print(f'Accuracy score of the CHAR features with k = 3: {accuracy_score(y_val_CHAR, y_model)}')\n",
    "\n",
    "# display classification report\n",
    "print(\"Classification Report for CHAR features on k-NN:\")\n",
    "print(classification_report(y_test_CHAR, y_model_char))"
   ]
  },
  {
   "cell_type": "code",
   "execution_count": 23,
   "metadata": {},
   "outputs": [
    {
     "data": {
      "text/plain": [
       "Text(77.92222222222227, 0.5, 'True value')"
      ]
     },
     "execution_count": 23,
     "metadata": {},
     "output_type": "execute_result"
    },
    {
     "data": {
      "image/png": "[encoded data removed]",
      "text/plain": [
       "<Figure size 640x480 with 2 Axes>"
      ]
     },
     "metadata": {},
     "output_type": "display_data"
    }
   ],
   "source": [
    "# instantiate the model: the k-NN classifier with k=19\n",
    "model_knn = KNeighborsClassifier(n_neighbors=max_key_TFIDF) # n_neighbors = 19\n",
    "\n",
    "# fit the model to our data\n",
    "model_knn.fit(X_train_CHAR.values, y_train_CHAR)\n",
    "\n",
    "# predict on new data\n",
    "y_model_char = model_knn.predict(X_test_CHAR.values)\n",
    "\n",
    "# evaluating the model\n",
    "mat = confusion_matrix(y_test_CHAR, y_model_char)\n",
    "\n",
    "# normalized confusion matrix\n",
    "normalized_mat = mat.astype('float') / mat.sum(axis=1)[:, np.newaxis]\n",
    "\n",
    "sns.heatmap(normalized_mat, square=True, annot=True, cbar=True)\n",
    "plt.title('Confusion Matrix for CHAR features on k-NN, with k=19')\n",
    "plt.xlabel('Predicted value')\n",
    "plt.ylabel('True value')"
   ]
  },
  {
   "cell_type": "code",
   "execution_count": 26,
   "metadata": {},
   "outputs": [
    {
     "name": "stdout",
     "output_type": "stream",
     "text": [
      "Accuracy score of the CHAR features with k = 19: 0.9981412639405205\n",
      "Classification Report for CHAR features on k-NN:\n",
      "              precision    recall  f1-score   support\n",
      "\n",
      "           0       1.00      1.00      1.00     17959\n",
      "           1       1.00      1.00      1.00     99316\n",
      "           2       1.00      0.99      0.99     16687\n",
      "\n",
      "    accuracy                           1.00    133962\n",
      "   macro avg       1.00      1.00      1.00    133962\n",
      "weighted avg       1.00      1.00      1.00    133962\n",
      "\n"
     ]
    }
   ],
   "source": [
    "print(f'Accuracy score of the CHAR features with k = 19: {accuracy_score(y_test_CHAR, y_model_char)}')\n",
    "\n",
    "# display classification report\n",
    "print(\"Classification Report for CHAR features on k-NN:\")\n",
    "print(classification_report(y_test_CHAR, y_model_char))"
   ]
  },
  {
   "cell_type": "markdown",
   "metadata": {},
   "source": [
    "## Logistic regression"
   ]
  },
  {
   "cell_type": "markdown",
   "metadata": {},
   "source": [
    "---\n",
    "\n",
    "Models give ConvergenceWarning but we tried increasing the number of iteration and observed no meaninful increase in performance, therefore we ignore the warning and keep the number of iteration low to reduce the execution time.\n",
    "\n",
    "---"
   ]
  },
  {
   "cell_type": "code",
   "execution_count": 43,
   "metadata": {},
   "outputs": [],
   "source": [
    "import warnings\n",
    "from sklearn.exceptions import ConvergenceWarning\n",
    "warnings.simplefilter(\"ignore\", category=ConvergenceWarning)"
   ]
  },
  {
   "cell_type": "markdown",
   "metadata": {},
   "source": [
    "**STATISTICAL WITH LENGTH**"
   ]
  },
  {
   "cell_type": "code",
   "execution_count": 44,
   "metadata": {},
   "outputs": [
    {
     "name": "stdout",
     "output_type": "stream",
     "text": [
      "Accuracy: 0.9995969006136068\n",
      "Classification Report:\n",
      "               precision    recall  f1-score   support\n",
      "\n",
      "           0       1.00      1.00      1.00     17959\n",
      "           1       1.00      1.00      1.00     99316\n",
      "           2       1.00      1.00      1.00     16687\n",
      "\n",
      "    accuracy                           1.00    133962\n",
      "   macro avg       1.00      1.00      1.00    133962\n",
      "weighted avg       1.00      1.00      1.00    133962\n",
      "\n"
     ]
    }
   ],
   "source": [
    "model_stat = LogisticRegression(max_iter=10000)\n",
    "model_stat.fit(X_train_stat, y_train_stat)\n",
    "y_pred_stat = model_stat.predict(X_test_stat)\n",
    "\n",
    "accuracy_stat = accuracy_score(y_test_stat, y_pred_stat)\n",
    "print(f'Accuracy: {accuracy_stat}')\n",
    "\n",
    "report_stat = classification_report(y_test_stat, y_pred_stat)\n",
    "print('Classification Report:\\n', report_stat)"
   ]
  },
  {
   "cell_type": "code",
   "execution_count": 45,
   "metadata": {},
   "outputs": [
    {
     "data": {
      "image/png": "[encoded data removed]",
      "text/plain": [
       "<Figure size 640x480 with 2 Axes>"
      ]
     },
     "metadata": {},
     "output_type": "display_data"
    }
   ],
   "source": [
    "mat_logistic_stat = confusion_matrix(y_test_stat, y_pred_stat)\n",
    "normalized_mat_logistic_stat = mat_logistic_stat.astype('float') / mat_logistic_stat.sum(axis=1)[:, np.newaxis]\n",
    "\n",
    "sns.heatmap(normalized_mat_logistic_stat, square=True, annot=True, cbar=True)\n",
    "plt.title('Confusion Matrix for statistical features on Logistic Regression')\n",
    "plt.xlabel('Predicted value')\n",
    "plt.ylabel('True value');"
   ]
  },
  {
   "cell_type": "markdown",
   "metadata": {},
   "source": [
    "**STATISTICAL W/O LENGTH**"
   ]
  },
  {
   "cell_type": "code",
   "execution_count": 46,
   "metadata": {},
   "outputs": [
    {
     "name": "stdout",
     "output_type": "stream",
     "text": [
      "Accuracy: 0.8352816470342336\n",
      "Classification Report:\n",
      "               precision    recall  f1-score   support\n",
      "\n",
      "           0       0.12      0.00      0.00     17959\n",
      "           1       0.83      0.99      0.90     99316\n",
      "           2       0.89      0.84      0.86     16687\n",
      "\n",
      "    accuracy                           0.84    133962\n",
      "   macro avg       0.61      0.61      0.59    133962\n",
      "weighted avg       0.74      0.84      0.78    133962\n",
      "\n"
     ]
    }
   ],
   "source": [
    "model_stat = LogisticRegression(max_iter=10000)\n",
    "model_stat.fit(X_train_stat_nolength, y_train_stat_nolength)\n",
    "y_pred_stat_nolength = model_stat.predict(X_test_stat_nolength)\n",
    "\n",
    "accuracy_stat = accuracy_score(y_test_stat_nolength, y_pred_stat_nolength)\n",
    "print(f'Accuracy: {accuracy_stat}')\n",
    "\n",
    "report_stat = classification_report(y_test_stat_nolength, y_pred_stat_nolength)\n",
    "print('Classification Report:\\n', report_stat)"
   ]
  },
  {
   "cell_type": "code",
   "execution_count": 47,
   "metadata": {},
   "outputs": [
    {
     "data": {
      "image/png": "[encoded data removed]",
      "text/plain": [
       "<Figure size 640x480 with 2 Axes>"
      ]
     },
     "metadata": {},
     "output_type": "display_data"
    }
   ],
   "source": [
    "mat_logistic_stat = confusion_matrix(y_test_stat_nolength, y_pred_stat_nolength)\n",
    "normalized_mat_logistic_stat = mat_logistic_stat.astype('float') / mat_logistic_stat.sum(axis=1)[:, np.newaxis]\n",
    "\n",
    "sns.heatmap(normalized_mat_logistic_stat, square=True, annot=True, cbar=True)\n",
    "plt.title('Confusion Matrix for statistical features on Logistic Regression')\n",
    "plt.xlabel('Predicted value')\n",
    "plt.ylabel('True value');"
   ]
  },
  {
   "cell_type": "markdown",
   "metadata": {},
   "source": [
    "**TF-IDF**"
   ]
  },
  {
   "cell_type": "code",
   "execution_count": 48,
   "metadata": {},
   "outputs": [
    {
     "name": "stdout",
     "output_type": "stream",
     "text": [
      "Accuracy: 0.8189859810991177\n",
      "Classification Report:\n",
      "               precision    recall  f1-score   support\n",
      "\n",
      "           0       0.58      0.30      0.39     17959\n",
      "           1       0.84      0.94      0.88     99316\n",
      "           2       0.82      0.69      0.75     16687\n",
      "\n",
      "    accuracy                           0.82    133962\n",
      "   macro avg       0.74      0.64      0.67    133962\n",
      "weighted avg       0.80      0.82      0.80    133962\n",
      "\n"
     ]
    }
   ],
   "source": [
    "model_TFIDF = LogisticRegression(max_iter=10000)\n",
    "model_TFIDF.fit(X_train2_TFIDF, y_train2_TFIDF)\n",
    "y_pred_TFIDF = model_TFIDF.predict(X_test_TFIDF)\n",
    "\n",
    "accuracy_TFIDF = accuracy_score(y_test_TFIDF, y_pred_TFIDF)\n",
    "print(f'Accuracy: {accuracy_TFIDF}')\n",
    "\n",
    "report_TFIDF = classification_report(y_test_TFIDF, y_pred_TFIDF)\n",
    "print('Classification Report:\\n', report_TFIDF)"
   ]
  },
  {
   "cell_type": "code",
   "execution_count": 49,
   "metadata": {},
   "outputs": [
    {
     "data": {
      "image/png": "[encoded data removed]",
      "text/plain": [
       "<Figure size 640x480 with 2 Axes>"
      ]
     },
     "metadata": {},
     "output_type": "display_data"
    }
   ],
   "source": [
    "mat_logistic_TFIDF = confusion_matrix(y_test_TFIDF, y_pred_TFIDF)\n",
    "normalized_mat_logistic_TFIDF = mat_logistic_TFIDF.astype('float') / mat_logistic_TFIDF.sum(axis=1)[:, np.newaxis]\n",
    "\n",
    "sns.heatmap(normalized_mat_logistic_TFIDF, square=True, annot=True, cbar=True)\n",
    "plt.title('Confusion Matrix for TF-IDF features on Logistic Regression')\n",
    "plt.xlabel('Predicted value')\n",
    "plt.ylabel('True value');"
   ]
  },
  {
   "cell_type": "markdown",
   "metadata": {},
   "source": [
    "**PER-CHARACTER**"
   ]
  },
  {
   "cell_type": "code",
   "execution_count": 50,
   "metadata": {},
   "outputs": [
    {
     "name": "stdout",
     "output_type": "stream",
     "text": [
      "Accuracy: 0.999701407861931\n",
      "Classification Report:\n",
      "               precision    recall  f1-score   support\n",
      "\n",
      "           0       1.00      1.00      1.00     17959\n",
      "           1       1.00      1.00      1.00     99316\n",
      "           2       1.00      1.00      1.00     16687\n",
      "\n",
      "    accuracy                           1.00    133962\n",
      "   macro avg       1.00      1.00      1.00    133962\n",
      "weighted avg       1.00      1.00      1.00    133962\n",
      "\n"
     ]
    }
   ],
   "source": [
    "model_CHAR = LogisticRegression(max_iter=10000)\n",
    "model_CHAR.fit(X_train_CHAR, y_train_CHAR)\n",
    "y_pred_CHAR = model_CHAR.predict(X_test_CHAR)\n",
    "\n",
    "accuracy_CHAR = accuracy_score(y_test_CHAR, y_pred_CHAR)\n",
    "print(f'Accuracy: {accuracy_CHAR}')\n",
    "\n",
    "report_CHAR = classification_report(y_test_CHAR, y_pred_CHAR)\n",
    "print('Classification Report:\\n', report_CHAR)"
   ]
  },
  {
   "cell_type": "code",
   "execution_count": 51,
   "metadata": {},
   "outputs": [
    {
     "data": {
      "image/png": "[encoded data removed]",
      "text/plain": [
       "<Figure size 640x480 with 2 Axes>"
      ]
     },
     "metadata": {},
     "output_type": "display_data"
    }
   ],
   "source": [
    "mat_logistic_CHAR = confusion_matrix(y_test_CHAR, y_pred_CHAR)\n",
    "normalized_mat_logistic_CHAR = mat_logistic_CHAR.astype('float') / mat_logistic_CHAR.sum(axis=1)[:, np.newaxis]\n",
    "\n",
    "sns.heatmap(normalized_mat_logistic_CHAR, square=True, annot=True, cbar=True)\n",
    "plt.title('Confusion Matrix for CHAR features on Logistic Regression')\n",
    "plt.xlabel('Predicted value')\n",
    "plt.ylabel('True value');"
   ]
  },
  {
   "cell_type": "markdown",
   "metadata": {},
   "source": [
    "---\n",
    "\n",
    "We can observe very high results on the datasets that contains information about length but mediocre results on the other two.\n",
    "\n",
    "---"
   ]
  },
  {
   "cell_type": "markdown",
   "metadata": {},
   "source": [
    "## Neural networks"
   ]
  },
  {
   "cell_type": "markdown",
   "metadata": {},
   "source": [
    "---\n",
    "\n",
    "We use Grid Search to find the best hyperparameters for the network.\n",
    "\n",
    "---"
   ]
  },
  {
   "cell_type": "markdown",
   "metadata": {},
   "source": [
    "**STATISTICAL WITH LENGTH**"
   ]
  },
  {
   "cell_type": "code",
   "execution_count": 58,
   "metadata": {},
   "outputs": [
    {
     "name": "stdout",
     "output_type": "stream",
     "text": [
      "Fitting 1 folds for each of 12 candidates, totalling 12 fits\n",
      "The best parameters we found are:\n",
      " {'activation': 'relu', 'hidden_layer_sizes': (64, 64), 'learning_rate_init': 0.001}\n",
      "Accuracy: 0.9996864782550275\n",
      "Classification Report:\n",
      "               precision    recall  f1-score   support\n",
      "\n",
      "           0       1.00      1.00      1.00     17959\n",
      "           1       1.00      1.00      1.00     99316\n",
      "           2       1.00      1.00      1.00     16687\n",
      "\n",
      "    accuracy                           1.00    133962\n",
      "   macro avg       1.00      1.00      1.00    133962\n",
      "weighted avg       1.00      1.00      1.00    133962\n",
      "\n"
     ]
    }
   ],
   "source": [
    "split_index = [-1]*len(X_train_stat) + [0]*len(X_val_stat)\n",
    "X_concatenated = np.concatenate((X_train_stat, X_val_stat), axis=0)\n",
    "y_concatenated = np.concatenate((y_train_stat, y_val_stat), axis=0)\n",
    "\n",
    "pds = PredefinedSplit(test_fold = split_index)\n",
    "param_grid = {'learning_rate_init': [0.001, 0.01, 0.1],\n",
    "              'activation': ['tanh', 'relu'],\n",
    "              'hidden_layer_sizes': [(64,),(64, 64)],\n",
    "              }\n",
    "\n",
    "mlp = MLPClassifier(hidden_layer_sizes=(64, 64), max_iter = 1000, random_state=42, \n",
    "                    early_stopping = True, validation_fraction = 0.1, n_iter_no_change=10)\n",
    "\n",
    "grid_search = GridSearchCV(mlp, param_grid, cv=pds, scoring='accuracy', verbose=1)\n",
    "grid_search.fit(X_concatenated, y_concatenated)\n",
    "\n",
    "model_stat = grid_search.best_estimator_\n",
    "y_pred_stat = model_stat.predict(X_test_stat.values)\n",
    "\n",
    "print('The best parameters we found are:\\n', grid_search.best_params_)\n",
    "\n",
    "accuracy_stat = accuracy_score(y_test_stat, y_pred_stat)\n",
    "print(f'Accuracy: {accuracy_stat}')\n",
    "\n",
    "report_stat = classification_report(y_test_stat, y_pred_stat)\n",
    "print('Classification Report:\\n', report_stat)"
   ]
  },
  {
   "cell_type": "code",
   "execution_count": 61,
   "metadata": {},
   "outputs": [
    {
     "data": {
      "image/png": "[encoded data removed]",
      "text/plain": [
       "<Figure size 640x480 with 2 Axes>"
      ]
     },
     "metadata": {},
     "output_type": "display_data"
    }
   ],
   "source": [
    "# evaluating the model\n",
    "mat = confusion_matrix(y_test_stat, y_pred_stat)\n",
    "\n",
    "# normalized confusion matrix\n",
    "normalized_mat = mat.astype('float') / mat.sum(axis=1)[:, np.newaxis]\n",
    "\n",
    "sns.heatmap(normalized_mat, square=True, annot=True, cbar=True)\n",
    "plt.title('Confusion Matrix for STAT features on Neural Network')\n",
    "plt.xlabel('Predicted value')\n",
    "plt.ylabel('True value');"
   ]
  },
  {
   "cell_type": "markdown",
   "metadata": {},
   "source": [
    "**STATISTICAL W/O LENGTH**"
   ]
  },
  {
   "cell_type": "code",
   "execution_count": 60,
   "metadata": {},
   "outputs": [
    {
     "name": "stdout",
     "output_type": "stream",
     "text": [
      "Fitting 1 folds for each of 12 candidates, totalling 12 fits\n",
      "The best parameters we found are:\n",
      " {'activation': 'relu', 'hidden_layer_sizes': (64, 64), 'learning_rate_init': 0.001}\n",
      "Accuracy: 0.956659351159284\n",
      "Classification Report:\n",
      "               precision    recall  f1-score   support\n",
      "\n",
      "           0       0.96      0.72      0.82     17959\n",
      "           1       0.95      0.99      0.97     99316\n",
      "           2       0.99      1.00      1.00     16687\n",
      "\n",
      "    accuracy                           0.96    133962\n",
      "   macro avg       0.97      0.90      0.93    133962\n",
      "weighted avg       0.96      0.96      0.95    133962\n",
      "\n"
     ]
    }
   ],
   "source": [
    "split_index = [-1]*len(X_train_stat_nolength) + [0]*len(X_val_stat_nolength)\n",
    "X_concatenated = np.concatenate((X_train_stat_nolength, X_val_stat_nolength), axis=0)\n",
    "y_concatenated = np.concatenate((y_train_stat_nolength, y_val_stat_nolength), axis=0)\n",
    "\n",
    "pds = PredefinedSplit(test_fold = split_index)\n",
    "param_grid = {'learning_rate_init': [0.001, 0.01, 0.1],\n",
    "              'activation': ['tanh', 'relu'],\n",
    "              'hidden_layer_sizes': [(64,),(64, 64)],\n",
    "              }\n",
    "\n",
    "mlp = MLPClassifier(hidden_layer_sizes=(64, 64), max_iter = 1000, random_state=42, \n",
    "                    early_stopping = True, validation_fraction = 0.1, n_iter_no_change=10)\n",
    "\n",
    "grid_search = GridSearchCV(mlp, param_grid, cv=pds, scoring='accuracy', verbose=1)\n",
    "grid_search.fit(X_concatenated, y_concatenated)\n",
    "\n",
    "model_stat_nolength = grid_search.best_estimator_\n",
    "y_pred_stat_nolength = model_stat_nolength.predict(X_test_stat_nolength.values)\n",
    "\n",
    "print('The best parameters we found are:\\n', grid_search.best_params_)\n",
    "\n",
    "accuracy_stat_nolength = accuracy_score(y_test_stat_nolength, y_pred_stat_nolength)\n",
    "print(f'Accuracy: {accuracy_stat_nolength}')\n",
    "\n",
    "report_stat_nolength = classification_report(y_test_stat_nolength, y_pred_stat_nolength)\n",
    "print('Classification Report:\\n', report_stat_nolength)"
   ]
  },
  {
   "cell_type": "code",
   "execution_count": 62,
   "metadata": {},
   "outputs": [
    {
     "data": {
      "image/png": "[encoded data removed]",
      "text/plain": [
       "<Figure size 640x480 with 2 Axes>"
      ]
     },
     "metadata": {},
     "output_type": "display_data"
    }
   ],
   "source": [
    "# evaluating the model\n",
    "mat = confusion_matrix(y_test_stat_nolength, y_pred_stat_nolength)\n",
    "\n",
    "# normalized confusion matrix\n",
    "normalized_mat = mat.astype('float') / mat.sum(axis=1)[:, np.newaxis]\n",
    "\n",
    "sns.heatmap(normalized_mat, square=True, annot=True, cbar=True)\n",
    "plt.title('Confusion Matrix for STAT features (w/o length) features on Neural Network')\n",
    "plt.xlabel('Predicted value')\n",
    "plt.ylabel('True value');"
   ]
  },
  {
   "cell_type": "markdown",
   "metadata": {},
   "source": [
    "---\n",
    "\n",
    "The training for the data without information regarding the length of the password is much slower. We can explain it by the fact that the network has to find more complex relations between data instead of relying on the only on the password length.\n",
    "\n",
    "---"
   ]
  },
  {
   "cell_type": "markdown",
   "metadata": {},
   "source": [
    "**TF-IDF**"
   ]
  },
  {
   "cell_type": "code",
   "execution_count": 63,
   "metadata": {},
   "outputs": [
    {
     "name": "stdout",
     "output_type": "stream",
     "text": [
      "Fitting 1 folds for each of 12 candidates, totalling 12 fits\n",
      "The best parameters we found are:\n",
      " {'activation': 'relu', 'hidden_layer_sizes': (64, 64), 'learning_rate_init': 0.001}\n",
      "Accuracy: 0.9857944790313671\n",
      "Classification Report:\n",
      "               precision    recall  f1-score   support\n",
      "\n",
      "           0       0.96      0.98      0.97     17959\n",
      "           1       0.99      0.99      0.99     99316\n",
      "           2       1.00      0.96      0.98     16687\n",
      "\n",
      "    accuracy                           0.99    133962\n",
      "   macro avg       0.98      0.98      0.98    133962\n",
      "weighted avg       0.99      0.99      0.99    133962\n",
      "\n"
     ]
    }
   ],
   "source": [
    "split_index = [-1]*len(X_train2_TFIDF) + [0]*len(X_val_TFIDF)\n",
    "X_concatenated = np.concatenate((X_train2_TFIDF, X_val_TFIDF), axis=0)\n",
    "y_concatenated = np.concatenate((y_train2_TFIDF, y_val_TFIDF), axis=0)\n",
    "\n",
    "pds = PredefinedSplit(test_fold = split_index)\n",
    "param_grid = {'learning_rate_init': [0.001, 0.01, 0.1],\n",
    "              'activation': ['tanh', 'relu'],\n",
    "              'hidden_layer_sizes': [(64,),(64, 64)],\n",
    "              }\n",
    "\n",
    "mlp = MLPClassifier(hidden_layer_sizes=(64, 64), max_iter = 1000, random_state=42, \n",
    "                    early_stopping = True, validation_fraction = 0.1, n_iter_no_change=10)\n",
    "\n",
    "grid_search = GridSearchCV(mlp, param_grid, cv=pds, scoring='accuracy', verbose=1)\n",
    "grid_search.fit(X_concatenated, y_concatenated)\n",
    "\n",
    "model_TFIDF = grid_search.best_estimator_\n",
    "y_pred_TFIDF = model_TFIDF.predict(X_test_TFIDF.values)\n",
    "\n",
    "print('The best parameters we found are:\\n', grid_search.best_params_)\n",
    "\n",
    "accuracy_TFIDF = accuracy_score(y_test_TFIDF, y_pred_TFIDF)\n",
    "print(f'Accuracy: {accuracy_TFIDF}')\n",
    "\n",
    "report_stat_TFIDF = classification_report(y_test_TFIDF, y_pred_TFIDF)\n",
    "print('Classification Report:\\n', report_stat_TFIDF)"
   ]
  },
  {
   "cell_type": "code",
   "execution_count": 64,
   "metadata": {},
   "outputs": [
    {
     "data": {
      "image/png": "[encoded data removed]",
      "text/plain": [
       "<Figure size 640x480 with 2 Axes>"
      ]
     },
     "metadata": {},
     "output_type": "display_data"
    }
   ],
   "source": [
    "# evaluating the model\n",
    "mat = confusion_matrix(y_test_TFIDF, y_pred_TFIDF)\n",
    "\n",
    "# normalized confusion matrix\n",
    "normalized_mat = mat.astype('float') / mat.sum(axis=1)[:, np.newaxis]\n",
    "\n",
    "sns.heatmap(normalized_mat, square=True, annot=True, cbar=True)\n",
    "plt.title('Confusion Matrix for TF-IDF features on Neural Network')\n",
    "plt.xlabel('Predicted value')\n",
    "plt.ylabel('True value');"
   ]
  },
  {
   "cell_type": "markdown",
   "metadata": {},
   "source": [
    "---\n",
    "\n",
    "Also TF-IDF is very slow even if compared with the previous one, probably due to the high number of columns. The results however are surprising, the accuracy we got is very high given that this dataset does not contain information about length.\n",
    "\n",
    "---"
   ]
  },
  {
   "cell_type": "markdown",
   "metadata": {},
   "source": [
    "**PER-CHARACTER**"
   ]
  },
  {
   "cell_type": "code",
   "execution_count": 65,
   "metadata": {},
   "outputs": [
    {
     "name": "stdout",
     "output_type": "stream",
     "text": [
      "Fitting 1 folds for each of 12 candidates, totalling 12 fits\n",
      "The best parameters we found are:\n",
      " {'activation': 'tanh', 'hidden_layer_sizes': (64,), 'learning_rate_init': 0.001}\n",
      "Accuracy: 0.9996864782550275\n",
      "Classification Report:\n",
      "               precision    recall  f1-score   support\n",
      "\n",
      "           0       1.00      1.00      1.00     17959\n",
      "           1       1.00      1.00      1.00     99316\n",
      "           2       1.00      1.00      1.00     16687\n",
      "\n",
      "    accuracy                           1.00    133962\n",
      "   macro avg       1.00      1.00      1.00    133962\n",
      "weighted avg       1.00      1.00      1.00    133962\n",
      "\n"
     ]
    }
   ],
   "source": [
    "split_index = [-1]*len(X_train_CHAR) + [0]*len(X_val_CHAR)\n",
    "X_concatenated = np.concatenate((X_train_CHAR, X_val_CHAR), axis=0)\n",
    "y_concatenated = np.concatenate((y_train_CHAR, y_val_CHAR), axis=0)\n",
    "\n",
    "pds = PredefinedSplit(test_fold = split_index)\n",
    "param_grid = {'learning_rate_init': [0.001, 0.01, 0.1],\n",
    "              'activation': ['tanh', 'relu'],\n",
    "              'hidden_layer_sizes': [(64,),(64, 64)],\n",
    "              }\n",
    "\n",
    "mlp = MLPClassifier(hidden_layer_sizes=(64, 64), max_iter = 1000, random_state=42, \n",
    "                    early_stopping = True, validation_fraction = 0.1, n_iter_no_change=10)\n",
    "\n",
    "grid_search = GridSearchCV(mlp, param_grid, cv=pds, scoring='accuracy', verbose=1)\n",
    "grid_search.fit(X_concatenated, y_concatenated)\n",
    "\n",
    "model_CHAR = grid_search.best_estimator_\n",
    "y_pred_CHAR = model_CHAR.predict(X_test_CHAR.values)\n",
    "\n",
    "print('The best parameters we found are:\\n', grid_search.best_params_)\n",
    "\n",
    "accuracy_CHAR = accuracy_score(y_test_CHAR, y_pred_CHAR)\n",
    "print(f'Accuracy: {accuracy_CHAR}')\n",
    "\n",
    "report_stat_CHAR = classification_report(y_test_CHAR, y_pred_CHAR)\n",
    "print('Classification Report:\\n', report_stat_CHAR)"
   ]
  },
  {
   "cell_type": "code",
   "execution_count": 66,
   "metadata": {},
   "outputs": [
    {
     "data": {
      "image/png": "[encoded data removed]",
      "text/plain": [
       "<Figure size 640x480 with 2 Axes>"
      ]
     },
     "metadata": {},
     "output_type": "display_data"
    }
   ],
   "source": [
    "# evaluating the model\n",
    "mat = confusion_matrix(y_test_CHAR, y_pred_CHAR)\n",
    "\n",
    "# normalized confusion matrix\n",
    "normalized_mat = mat.astype('float') / mat.sum(axis=1)[:, np.newaxis]\n",
    "\n",
    "sns.heatmap(normalized_mat, square=True, annot=True, cbar=True)\n",
    "plt.title('Confusion Matrix for CHAR features on Neural Network')\n",
    "plt.xlabel('Predicted value')\n",
    "plt.ylabel('True value');"
   ]
  },
  {
   "cell_type": "markdown",
   "metadata": {},
   "source": [
    "---\n",
    "\n",
    "We notice that also the CHAR dataset had a very fast execution and we can attribuite it to the fact that it also contains implicitly informations about the password length.\n",
    "\n",
    "---"
   ]
  },
  {
   "cell_type": "markdown",
   "metadata": {},
   "source": [
    "---\n",
    "\n",
    "**Comments:**\n",
    "\n",
    "As the problem revealed itself much easier than what we predicted approaches based on neural networks may not be necessary to obtain good results. Every type of feature extraction got really good results.\n",
    "\n",
    "Stat features got really good results, as they did with other models because length seems to be enough to discriminate in almost all cases. So we tried removing from the dataset all the features that could contain informations about the password length, as \"length\", \"entropy\", \"lowercase_count\" ecc., this made our dataset composed only of frequencies and booleans. With this approach we obtained interesting results: easily discriminates between class \"2\" and \"1\" but there is a considerable amount of elements in class \"0\" that are being incorrectly classified as class \"1\".\n",
    "\n",
    "This results become even more interesting when we analyze the results obtained with TF-IDF features: even if they intrinsically do not contain informations about length the performances are very high, about only 1% lower than what with approaches that mantain informations about length. This is considerable given that using the same kind of features yields much worse results when using approaches different from Neural Networks.\n",
    "\n",
    "Finally using the third type of features yields optimal results, with a minimal increase from what we get from stat features as we can imagine the neural network managed to get more useful features than what a human could do.\n",
    "\n",
    "---"
   ]
  },
  {
   "cell_type": "markdown",
   "metadata": {},
   "source": [
    "## Decision tree"
   ]
  },
  {
   "cell_type": "markdown",
   "metadata": {},
   "source": [
    "**TF-IDF**"
   ]
  },
  {
   "cell_type": "code",
   "execution_count": 67,
   "metadata": {},
   "outputs": [],
   "source": [
    "# create a decision tree classifier object\n",
    "clf = DecisionTreeClassifier(random_state=42)\n",
    "\n",
    "# train the model using the training sets\n",
    "clf.fit(X_train_TFIDF, y_train_TFIDF)\n",
    "\n",
    "y_test_pred_TFIDF = clf.predict(X_test_TFIDF)"
   ]
  },
  {
   "cell_type": "code",
   "execution_count": 68,
   "metadata": {},
   "outputs": [
    {
     "name": "stdout",
     "output_type": "stream",
     "text": [
      "      Metric  Test Set\n",
      "0  Precision  0.925911\n",
      "1     Recall  0.926098\n",
      "2   Accuracy  0.926098\n"
     ]
    }
   ],
   "source": [
    "# calculate metrics for test set\n",
    "precision_test = precision_score(y_test_TFIDF, y_test_pred_TFIDF, average='weighted')\n",
    "recall_test = recall_score(y_test_TFIDF, y_test_pred_TFIDF, average='weighted')\n",
    "accuracy_test = accuracy_score(y_test_TFIDF, y_test_pred_TFIDF)\n",
    "\n",
    "table = pd.DataFrame({\n",
    "    'Metric': ['Precision', 'Recall', 'Accuracy'],\n",
    "    'Test Set': [precision_test, recall_test, accuracy_test]\n",
    "})\n",
    "\n",
    "print(table)"
   ]
  },
  {
   "cell_type": "code",
   "execution_count": 69,
   "metadata": {},
   "outputs": [
    {
     "data": {
      "image/png": "[encoded data removed]",
      "text/plain": [
       "<Figure size 1000x700 with 2 Axes>"
      ]
     },
     "metadata": {},
     "output_type": "display_data"
    }
   ],
   "source": [
    "# calculate confusion matrix for test set\n",
    "cm_test_TFIDF = confusion_matrix(y_test_TFIDF, y_test_pred_TFIDF)\n",
    "\n",
    "# normalize the confusion matrix\n",
    "cm_test_TFIDF_normalized = cm_test_TFIDF.astype('float') / cm_test_TFIDF.sum(axis=1)[:, np.newaxis]\n",
    "\n",
    "# plot normalized confusion matrix for test set\n",
    "plt.figure(figsize=(10,7))\n",
    "sns.heatmap(cm_test_TFIDF_normalized, annot=True, fmt='.2f')\n",
    "plt.title('Normalized Confusion Matrix for Test Set')\n",
    "plt.xlabel('Predicted')\n",
    "plt.ylabel('Truth')\n",
    "plt.show()"
   ]
  },
  {
   "cell_type": "code",
   "execution_count": 70,
   "metadata": {},
   "outputs": [
    {
     "name": "stdout",
     "output_type": "stream",
     "text": [
      "   Feature Name  Importance\n",
      "52            q    0.143970\n",
      "15            1    0.139861\n",
      "49            n    0.067435\n",
      "53            r    0.063961\n",
      "36            a    0.048580\n",
      "..          ...         ...\n",
      "82            ¿    0.000000\n",
      "95            ï    0.000000\n",
      "83            ×    0.000000\n",
      "93            í    0.000000\n",
      "80            ½    0.000000\n",
      "\n",
      "[120 rows x 2 columns]\n"
     ]
    }
   ],
   "source": [
    "importances = clf.feature_importances_\n",
    "feature_names = X_train_TFIDF.columns\n",
    "feature_imp_df = pd.DataFrame({'Feature Name':feature_names, 'Importance':importances})\n",
    "print(feature_imp_df.sort_values(by='Importance', ascending=False))"
   ]
  },
  {
   "cell_type": "markdown",
   "metadata": {},
   "source": [
    "**STATISTICAL WITH LENGTH**\n"
   ]
  },
  {
   "cell_type": "code",
   "execution_count": 71,
   "metadata": {},
   "outputs": [],
   "source": [
    "# create a decision tree classifier object\n",
    "clf = DecisionTreeClassifier(random_state=42)\n",
    "\n",
    "# train the model using the training sets\n",
    "clf.fit(X_train_stat, y_train_stat)\n",
    "\n",
    "y_test_pred_stat = clf.predict(X_test_stat)"
   ]
  },
  {
   "cell_type": "code",
   "execution_count": 72,
   "metadata": {},
   "outputs": [
    {
     "name": "stdout",
     "output_type": "stream",
     "text": [
      "      Metric  Test Set\n",
      "0  Precision  0.999709\n",
      "1     Recall  0.999709\n",
      "2   Accuracy  0.999709\n"
     ]
    }
   ],
   "source": [
    "# calculate metrics for the test set\n",
    "precision_test = precision_score(y_test_stat, y_test_pred_stat, average='weighted')\n",
    "recall_test = recall_score(y_test_stat, y_test_pred_stat, average='weighted')\n",
    "accuracy_test = accuracy_score(y_test_stat, y_test_pred_stat)\n",
    "\n",
    "# create a DataFrame for the table\n",
    "table = pd.DataFrame({\n",
    "    'Metric': ['Precision', 'Recall', 'Accuracy'],\n",
    "    'Test Set': [precision_test, recall_test, accuracy_test]\n",
    "})\n",
    "\n",
    "print(table)"
   ]
  },
  {
   "cell_type": "code",
   "execution_count": 73,
   "metadata": {},
   "outputs": [
    {
     "data": {
      "image/png": "[encoded data removed]",
      "text/plain": [
       "<Figure size 1000x700 with 2 Axes>"
      ]
     },
     "metadata": {},
     "output_type": "display_data"
    }
   ],
   "source": [
    "# calculate confusion matrix for test set\n",
    "cm_test_stat = confusion_matrix(y_test_stat, y_test_pred_stat)\n",
    "\n",
    "# normalize the confusion matrix\n",
    "cm_test_stat_normalized = cm_test_stat.astype('float') / cm_test_stat.sum(axis=1)[:, np.newaxis]\n",
    "\n",
    "# plot normalized confusion matrix for test set\n",
    "plt.figure(figsize=(10,7))\n",
    "sns.heatmap(cm_test_stat_normalized, annot=True, fmt='.2f')\n",
    "plt.title('Normalized Confusion Matrix for Test Set')\n",
    "plt.xlabel('Predicted')\n",
    "plt.ylabel('Truth')\n",
    "plt.show()"
   ]
  },
  {
   "cell_type": "code",
   "execution_count": 74,
   "metadata": {},
   "outputs": [
    {
     "name": "stdout",
     "output_type": "stream",
     "text": [
      "                     Feature Name    Importance\n",
      "0                          length  9.997548e-01\n",
      "1                     num_letters  9.003557e-05\n",
      "14                        entropy  2.703470e-05\n",
      "12              numbers_frequency  2.074801e-05\n",
      "4              percentage_numbers  2.010549e-05\n",
      "11            uppercase_frequency  1.458452e-05\n",
      "3                     num_numbers  1.032266e-05\n",
      "5          has_special_characters  9.573781e-06\n",
      "2              percentage_letters  9.362521e-06\n",
      "8                 lowercase_count  8.050077e-06\n",
      "13           unique_char_presence  7.538720e-06\n",
      "9            percentage_lowercase  7.208679e-06\n",
      "19                    common_word  6.488535e-06\n",
      "10            lowercase_frequency  6.275367e-06\n",
      "7            percentage_uppercase  4.615480e-06\n",
      "16  consecutive_lowercase_letters  2.814155e-06\n",
      "17            consecutive_numbers  1.634144e-07\n",
      "6                 uppercase_count  1.417109e-07\n",
      "20                     year_birth  1.114435e-07\n",
      "15  consecutive_uppercase_letters  6.362660e-08\n",
      "18                querty_sequence  2.333838e-11\n"
     ]
    }
   ],
   "source": [
    "importances = clf.feature_importances_\n",
    "feature_names = X_train_stat.columns\n",
    "feature_imp_df = pd.DataFrame({'Feature Name':feature_names, 'Importance':importances})\n",
    "print(feature_imp_df.sort_values(by='Importance', ascending=False))"
   ]
  },
  {
   "cell_type": "markdown",
   "metadata": {},
   "source": [
    "**STATISTICAL W/O LENGTH**"
   ]
  },
  {
   "cell_type": "code",
   "execution_count": 75,
   "metadata": {},
   "outputs": [],
   "source": [
    "# create a decision tree classifier object\n",
    "clf = DecisionTreeClassifier(random_state=42)\n",
    "\n",
    "# train the model using the training sets\n",
    "clf.fit(X_train_stat_nolength, y_train_stat_nolength)\n",
    "\n",
    "y_test_pred_stat_nolength = clf.predict(X_test_stat_nolength)"
   ]
  },
  {
   "cell_type": "code",
   "execution_count": 76,
   "metadata": {},
   "outputs": [
    {
     "name": "stdout",
     "output_type": "stream",
     "text": [
      "      Metric  Test Set\n",
      "0  Precision  0.958928\n",
      "1     Recall  0.958682\n",
      "2   Accuracy  0.958682\n"
     ]
    }
   ],
   "source": [
    "precision_test = precision_score(y_test_stat_nolength, y_test_pred_stat_nolength, average='weighted')\n",
    "recall_test = recall_score(y_test_stat_nolength, y_test_pred_stat_nolength, average='weighted')\n",
    "accuracy_test = accuracy_score(y_test_stat_nolength, y_test_pred_stat_nolength)\n",
    "\n",
    "table = pd.DataFrame({  # Creates a DataFrame for the table\n",
    "    'Metric': ['Precision', 'Recall', 'Accuracy'],\n",
    "    'Test Set': [precision_test, recall_test, accuracy_test]\n",
    "})\n",
    "\n",
    "print(table)  # Prints the table"
   ]
  },
  {
   "cell_type": "code",
   "execution_count": 77,
   "metadata": {},
   "outputs": [
    {
     "data": {
      "image/png": "[encoded data removed]",
      "text/plain": [
       "<Figure size 1000x700 with 2 Axes>"
      ]
     },
     "metadata": {},
     "output_type": "display_data"
    }
   ],
   "source": [
    "# Calculate confusion matrix for test set\n",
    "cm_test_stat = confusion_matrix(y_test_stat_nolength, y_test_pred_stat_nolength)\n",
    "\n",
    "# Normalize the confusion matrix\n",
    "cm_test_stat_normalized = cm_test_stat.astype('float') / cm_test_stat.sum(axis=1)[:, np.newaxis]\n",
    "\n",
    "# Plot normalized confusion matrix for test set\n",
    "plt.figure(figsize=(10,7))\n",
    "sns.heatmap(cm_test_stat_normalized, annot=True, fmt='.2f')\n",
    "plt.title('Normalized Confusion Matrix for Test Set')\n",
    "plt.xlabel('Predicted')\n",
    "plt.ylabel('Truth')\n",
    "plt.show()"
   ]
  },
  {
   "cell_type": "code",
   "execution_count": 123,
   "metadata": {},
   "outputs": [
    {
     "name": "stdout",
     "output_type": "stream",
     "text": [
      "                     Feature Name  Importance\n",
      "3            percentage_uppercase    0.414598\n",
      "5             lowercase_frequency    0.174722\n",
      "7               numbers_frequency    0.137239\n",
      "0              percentage_letters    0.080568\n",
      "4            percentage_lowercase    0.072471\n",
      "11            consecutive_numbers    0.044810\n",
      "2          has_special_characters    0.033273\n",
      "1              percentage_numbers    0.021037\n",
      "8            unique_char_presence    0.010980\n",
      "10  consecutive_lowercase_letters    0.003969\n",
      "13                    common_word    0.003114\n",
      "6             uppercase_frequency    0.002571\n",
      "14                     year_birth    0.000323\n",
      "9   consecutive_uppercase_letters    0.000271\n",
      "12                querty_sequence    0.000052\n"
     ]
    }
   ],
   "source": [
    "importances = clf.feature_importances_\n",
    "feature_names = X_train_stat_nolength.columns\n",
    "feature_imp_df = pd.DataFrame({'Feature Name':feature_names, 'Importance':importances})\n",
    "print(feature_imp_df.sort_values(by='Importance', ascending=False))"
   ]
  },
  {
   "cell_type": "markdown",
   "metadata": {},
   "source": [
    "**PER-CHARACTER**"
   ]
  },
  {
   "cell_type": "code",
   "execution_count": 78,
   "metadata": {},
   "outputs": [],
   "source": [
    "# create a decision tree classifier object\n",
    "clf = DecisionTreeClassifier(random_state=42)\n",
    "\n",
    "# train the model using the training sets\n",
    "clf.fit(X_train_CHAR, y_train_CHAR)\n",
    "\n",
    "y_test_pred_CHAR = clf.predict(X_test_CHAR)"
   ]
  },
  {
   "cell_type": "code",
   "execution_count": 79,
   "metadata": {},
   "outputs": [
    {
     "name": "stdout",
     "output_type": "stream",
     "text": [
      "      Metric  Test Set\n",
      "0  Precision  0.999709\n",
      "1     Recall  0.999709\n",
      "2   Accuracy  0.999709\n"
     ]
    }
   ],
   "source": [
    "# calculate metrics for the test set\n",
    "precision_test = precision_score(y_test_CHAR, y_test_pred_CHAR, average='weighted')\n",
    "recall_test = recall_score(y_test_CHAR, y_test_pred_CHAR, average='weighted')\n",
    "accuracy_test = accuracy_score(y_test_CHAR, y_test_pred_CHAR)\n",
    "\n",
    "# create a DataFrame for the table\n",
    "table = pd.DataFrame({\n",
    "    'Metric': ['Precision', 'Recall', 'Accuracy'],\n",
    "    'Test Set': [precision_test, recall_test, accuracy_test]\n",
    "})\n",
    "\n",
    "print(table)"
   ]
  },
  {
   "cell_type": "code",
   "execution_count": 80,
   "metadata": {},
   "outputs": [
    {
     "data": {
      "image/png": "[encoded data removed]",
      "text/plain": [
       "<Figure size 1000x700 with 2 Axes>"
      ]
     },
     "metadata": {},
     "output_type": "display_data"
    }
   ],
   "source": [
    "# calculate confusion matrix for test set\n",
    "cm_test_CHAR = confusion_matrix(y_test_CHAR, y_test_pred_CHAR)\n",
    "\n",
    "# normalize the confusion matrix\n",
    "cm_test_CHAR_normalized = cm_test_CHAR.astype('float') / cm_test_CHAR.sum(axis=1)[:, np.newaxis]\n",
    "\n",
    "# Plot normalized confusion matrix for test set\n",
    "plt.figure(figsize=(10,7))\n",
    "sns.heatmap(cm_test_CHAR_normalized, annot=True, fmt='.2f')\n",
    "plt.title('Normalized Confusion Matrix for Test Set')\n",
    "plt.xlabel('Predicted')\n",
    "plt.ylabel('Truth')\n",
    "plt.show()"
   ]
  },
  {
   "cell_type": "code",
   "execution_count": 81,
   "metadata": {},
   "outputs": [
    {
     "name": "stdout",
     "output_type": "stream",
     "text": [
      "     Feature Name  Importance\n",
      "20       13=empty    0.510274\n",
      "135       7=empty    0.488648\n",
      "140       8=empty    0.000565\n",
      "25       14=empty    0.000273\n",
      "4     0=uppercase    0.000039\n",
      "..            ...         ...\n",
      "52      19=number    0.000000\n",
      "51   19=lowercase    0.000000\n",
      "50       19=empty    0.000000\n",
      "49   18=uppercase    0.000000\n",
      "75       23=empty    0.000000\n",
      "\n",
      "[150 rows x 2 columns]\n"
     ]
    }
   ],
   "source": [
    "importances = clf.feature_importances_\n",
    "feature_names = X_train_CHAR.columns\n",
    "feature_imp_df = pd.DataFrame({'Feature Name':feature_names, 'Importance':importances})\n",
    "print(feature_imp_df.sort_values(by='Importance', ascending=False))"
   ]
  },
  {
   "cell_type": "markdown",
   "metadata": {},
   "source": [
    "---\n",
    "\n",
    "**Comment:**\n",
    "\n",
    "For the TF-IDF dataset we have accuracy, precision and recall values equal to $0.92$, in fact, as it's clearly shown in the confusion matrix, there are $94736$ well-predicted values; the most important features are the `q` and `1`, probably due to the fact that the most frequent number is `1` and makes the password stronger, and the presence of the `q` usually implies the absence of real words.\n",
    "\n",
    "With the statistical dataset, the metrics are all equal to $0.99$, because in this datset are both present the lenght and the entropy of the passwords, which heavly influence our model.\n",
    "\n",
    "Also for the per-char dataset we have good metrics, all equal to $0,99$.\n",
    "\n",
    "---"
   ]
  }
 ],
 "metadata": {
  "kernelspec": {
   "display_name": "Python 3",
   "language": "python",
   "name": "python3"
  },
  "language_info": {
   "codemirror_mode": {
    "name": "ipython",
    "version": 3
   },
   "file_extension": ".py",
   "mimetype": "text/x-python",
   "name": "python",
   "nbconvert_exporter": "python",
   "pygments_lexer": "ipython3",
   "version": "3.11.4"
  }
 },
 "nbformat": 4,
 "nbformat_minor": 2
}
